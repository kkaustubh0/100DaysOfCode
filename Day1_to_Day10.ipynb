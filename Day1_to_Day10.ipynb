{
 "cells": [
  {
   "cell_type": "markdown",
   "id": "bfaa29b8",
   "metadata": {},
   "source": [
    "# Day 1 : Printing and Variables (25/12/2022)"
   ]
  },
  {
   "cell_type": "code",
   "execution_count": 8,
   "id": "90feaa37",
   "metadata": {},
   "outputs": [
    {
     "name": "stdout",
     "output_type": "stream",
     "text": [
      "Hello World!\n",
      "print('What to print')\n"
     ]
    }
   ],
   "source": [
    "print('Hello World!')\n",
    "print(\"print('What to print')\")"
   ]
  },
  {
   "cell_type": "markdown",
   "id": "b9b36a55",
   "metadata": {},
   "source": [
    "String of characters must be inside the double quotes or single quotes\n",
    "<br>Print is a function used to print whatever is written inside the quotes"
   ]
  },
  {
   "cell_type": "markdown",
   "id": "7ea4e82f",
   "metadata": {},
   "source": [
    "Backslash followed by n can be used to create a new line inside the print function as illustrated below."
   ]
  },
  {
   "cell_type": "code",
   "execution_count": 38,
   "id": "3f77c81d",
   "metadata": {},
   "outputs": [
    {
     "name": "stdout",
     "output_type": "stream",
     "text": [
      "Hello Everyone\n",
      "My name is Kumar\n",
      "And I am an MS Research scholar at IIT Dharwad\n",
      "In the department of Electrical Engg\n"
     ]
    }
   ],
   "source": [
    "print(\"Hello Everyone\\nMy name is Kumar\\nAnd I am an MS Research scholar at IIT Dharwad\\nIn the department of Electrical Engg\")"
   ]
  },
  {
   "cell_type": "markdown",
   "id": "6b4102dc",
   "metadata": {},
   "source": [
    "### String Concatination using '+' symbol "
   ]
  },
  {
   "cell_type": "code",
   "execution_count": 18,
   "id": "5a0c1242",
   "metadata": {},
   "outputs": [
    {
     "name": "stdout",
     "output_type": "stream",
     "text": [
      "Hello Everyone\n",
      "My name is Kumar!\n",
      "I am an MS Research scholar at IIT Dharwad\n"
     ]
    }
   ],
   "source": [
    "print(\"Hello \" + \"Everyone\")\n",
    "print(\"My name is\"+\" Kumar!\")\n",
    "print(\"I am an MS Research scholar\" + \" \" + \"at IIT Dharwad\")"
   ]
  },
  {
   "cell_type": "markdown",
   "id": "527392d0",
   "metadata": {},
   "source": [
    "Note: Indentations are important in python. We must start all of our code at the beginning of the line. Otherwise, it will give us an indentation error."
   ]
  },
  {
   "cell_type": "markdown",
   "id": "0314adf7",
   "metadata": {},
   "source": [
    "### Input function in python"
   ]
  },
  {
   "cell_type": "markdown",
   "id": "4a88f649",
   "metadata": {},
   "source": [
    "Input function can be used to take inputs from the user.<br>\n",
    "So, we use input function to take data from the user. Whatever we write inside the input function will be given as prompt to the user and when the user enters something it will be replaced by whatever the user entered."
   ]
  },
  {
   "cell_type": "code",
   "execution_count": 19,
   "id": "c109e2c6",
   "metadata": {},
   "outputs": [
    {
     "name": "stdout",
     "output_type": "stream",
     "text": [
      "Please enter your name:Kumar Kaustubh\n"
     ]
    },
    {
     "data": {
      "text/plain": [
       "'Kumar Kaustubh'"
      ]
     },
     "execution_count": 19,
     "metadata": {},
     "output_type": "execute_result"
    }
   ],
   "source": [
    "input('Please enter your name:')"
   ]
  },
  {
   "cell_type": "markdown",
   "id": "0ce5f522",
   "metadata": {},
   "source": [
    "We can create a variable to store this input given by the user."
   ]
  },
  {
   "cell_type": "code",
   "execution_count": 21,
   "id": "c7e8ce37",
   "metadata": {},
   "outputs": [
    {
     "name": "stdout",
     "output_type": "stream",
     "text": [
      "Please enter your college : IIT Dharwad\n",
      "IIT Dharwad\n"
     ]
    }
   ],
   "source": [
    "var_name = input(\"Please enter your college : \")\n",
    "print(var_name)"
   ]
  },
  {
   "cell_type": "code",
   "execution_count": 22,
   "id": "c5cef016",
   "metadata": {},
   "outputs": [
    {
     "data": {
      "text/plain": [
       "'IIT Dharwad'"
      ]
     },
     "execution_count": 22,
     "metadata": {},
     "output_type": "execute_result"
    }
   ],
   "source": [
    "var_name"
   ]
  },
  {
   "cell_type": "markdown",
   "id": "8d35c411",
   "metadata": {},
   "source": [
    "Using the input function inside of the print function"
   ]
  },
  {
   "cell_type": "code",
   "execution_count": 29,
   "id": "e68b97a1",
   "metadata": {},
   "outputs": [
    {
     "name": "stdout",
     "output_type": "stream",
     "text": [
      "please enter your name: Kumar\n",
      "Hello Kumar\n"
     ]
    }
   ],
   "source": [
    "print(\"Hello \" + input(\"please enter your name: \"))"
   ]
  },
  {
   "cell_type": "markdown",
   "id": "cc4d1d16",
   "metadata": {},
   "source": [
    "In the above example first of all input function is executed and the part of input function inside the print function is replaced by whatever we enter in the prompt. Another example is illustrated below."
   ]
  },
  {
   "cell_type": "code",
   "execution_count": 1,
   "id": "e46dc399",
   "metadata": {},
   "outputs": [
    {
     "name": "stdout",
     "output_type": "stream",
     "text": [
      "Which whiskey would you like to have? :Jack Daniels\n",
      "Water/soda/coke? :Coke\n",
      "I would love to have a Jack Daniels with Coke\n"
     ]
    }
   ],
   "source": [
    "print(\"I would love to have a \" + input(\"Which whiskey would you like to have? :\") + \" with \" + input(\"Water/soda/coke? :\"))"
   ]
  },
  {
   "cell_type": "markdown",
   "id": "60b7ae6b",
   "metadata": {},
   "source": [
    "### Exercise: Counting the number of letters in a name entered by the user: len() function in action\n"
   ]
  },
  {
   "cell_type": "code",
   "execution_count": 35,
   "id": "9eac8f40",
   "metadata": {},
   "outputs": [
    {
     "name": "stdout",
     "output_type": "stream",
     "text": [
      "Please, Enter your name:kaustubh\n",
      "The number of letter in your name is: 8\n"
     ]
    }
   ],
   "source": [
    "name = input(\"Please, Enter your name:\")\n",
    "name_length = len(name)\n",
    "print(\"The number of letter in your name is:\",name_length)"
   ]
  },
  {
   "cell_type": "markdown",
   "id": "618c821f",
   "metadata": {},
   "source": [
    "We can do the entire three line code in a single line by nesting the functions."
   ]
  },
  {
   "cell_type": "code",
   "execution_count": 37,
   "id": "42a4b327",
   "metadata": {},
   "outputs": [
    {
     "name": "stdout",
     "output_type": "stream",
     "text": [
      "Please, enter your name: kaustubh\n",
      "The number of letters in your name is: 8\n"
     ]
    }
   ],
   "source": [
    "print(\"The number of letters in your name is:\",len(input(\"Please, enter your name: \")))"
   ]
  },
  {
   "cell_type": "markdown",
   "id": "072b7eef",
   "metadata": {},
   "source": [
    "len() function can not be used for int data type"
   ]
  },
  {
   "cell_type": "markdown",
   "id": "50ee18d1",
   "metadata": {},
   "source": [
    "### Exercise : Swapping two values"
   ]
  },
  {
   "cell_type": "code",
   "execution_count": 42,
   "id": "56e16aff",
   "metadata": {},
   "outputs": [
    {
     "name": "stdout",
     "output_type": "stream",
     "text": [
      "Please, Enter the first number:121\n",
      "Please Enter the second number:458\n",
      "First number: 458 \n",
      "Second number: 121\n"
     ]
    }
   ],
   "source": [
    "first_number = input(\"Please, Enter the first number:\")\n",
    "second_number = input(\"Please Enter the second number:\")\n",
    "\n",
    "temp = first_number\n",
    "first_number = second_number\n",
    "second_number = temp\n",
    "\n",
    "print('First number:', first_number,'\\nSecond number:', second_number)"
   ]
  },
  {
   "cell_type": "markdown",
   "id": "ac76bbc2",
   "metadata": {},
   "source": [
    "### Rules for naming the variables :"
   ]
  },
  {
   "cell_type": "markdown",
   "id": "e8c71524",
   "metadata": {},
   "source": [
    "1. Make the code readable and use meaningful variable name.\n",
    "2. Variable name must be a one single unit.\n",
    "3. Varibale name can not start with a number or a digit.\n",
    "4. Keywords should not be used as the variable name."
   ]
  },
  {
   "cell_type": "markdown",
   "id": "1f709541",
   "metadata": {},
   "source": [
    "# Day 2 : Data Types (26/12/2022)"
   ]
  },
  {
   "cell_type": "markdown",
   "id": "cf9f5188",
   "metadata": {},
   "source": [
    "1. String is a string of characters. We need quotes to create strings.<br>\n",
    "2. We can pull out the individual characters of a string in the following two ways:<br>\n",
    "    a. We can store the string in a variable and and use square brackets and an index to refer to a particular character.<br>\n",
    "    b. We can use indexing in front of the string itself right outside of the single or double quotes.\n",
    "\n",
    "Same is illustrated below"
   ]
  },
  {
   "cell_type": "code",
   "execution_count": 48,
   "id": "b38e24e2",
   "metadata": {},
   "outputs": [
    {
     "name": "stdout",
     "output_type": "stream",
     "text": [
      "Z\n"
     ]
    }
   ],
   "source": [
    "string = \"Led Zeppelin\"\n",
    "print(string[4])"
   ]
  },
  {
   "cell_type": "code",
   "execution_count": 1,
   "id": "eec1d961",
   "metadata": {},
   "outputs": [
    {
     "data": {
      "text/plain": [
       "'Z'"
      ]
     },
     "execution_count": 1,
     "metadata": {},
     "output_type": "execute_result"
    }
   ],
   "source": [
    "\"Led Zeppelin\"[4]"
   ]
  },
  {
   "cell_type": "markdown",
   "id": "f5d86272",
   "metadata": {},
   "source": [
    "Note : A number inside single or double quotes is treated as strings."
   ]
  },
  {
   "cell_type": "code",
   "execution_count": 50,
   "id": "1a038666",
   "metadata": {},
   "outputs": [
    {
     "name": "stdout",
     "output_type": "stream",
     "text": [
      "123456\n"
     ]
    }
   ],
   "source": [
    "print(\"123\"+\"456\") #This is basically string concatenation"
   ]
  },
  {
   "cell_type": "markdown",
   "id": "442f782c",
   "metadata": {},
   "source": [
    "To create or declare a integer, we don't use quotes"
   ]
  },
  {
   "cell_type": "code",
   "execution_count": 51,
   "id": "efa432ab",
   "metadata": {},
   "outputs": [
    {
     "name": "stdout",
     "output_type": "stream",
     "text": [
      "208\n"
     ]
    }
   ],
   "source": [
    "print(152+56)"
   ]
  },
  {
   "cell_type": "code",
   "execution_count": 55,
   "id": "ed924ec4",
   "metadata": {},
   "outputs": [
    {
     "data": {
      "text/plain": [
       "7611"
      ]
     },
     "execution_count": 55,
     "metadata": {},
     "output_type": "execute_result"
    }
   ],
   "source": [
    "125+7486"
   ]
  },
  {
   "cell_type": "markdown",
   "id": "00ddf1b7",
   "metadata": {},
   "source": [
    "Underscores are ignored during integer calculations."
   ]
  },
  {
   "cell_type": "code",
   "execution_count": 2,
   "id": "25726c62",
   "metadata": {},
   "outputs": [
    {
     "name": "stdout",
     "output_type": "stream",
     "text": [
      "467\n"
     ]
    }
   ],
   "source": [
    "print(12_3 + 34_4) #This is same as 123+344"
   ]
  },
  {
   "cell_type": "markdown",
   "id": "1298a6af",
   "metadata": {},
   "source": [
    "Decimal numbers are of float data type<br>\n",
    "Boolean is also a data type i.e True or False only"
   ]
  },
  {
   "cell_type": "markdown",
   "id": "70b19fee",
   "metadata": {},
   "source": [
    "### Type Checking using type()"
   ]
  },
  {
   "cell_type": "code",
   "execution_count": 58,
   "id": "4b64ddff",
   "metadata": {},
   "outputs": [
    {
     "data": {
      "text/plain": [
       "int"
      ]
     },
     "execution_count": 58,
     "metadata": {},
     "output_type": "execute_result"
    }
   ],
   "source": [
    "num = 123\n",
    "type(num)"
   ]
  },
  {
   "cell_type": "code",
   "execution_count": 60,
   "id": "714ea36c",
   "metadata": {},
   "outputs": [
    {
     "data": {
      "text/plain": [
       "str"
      ]
     },
     "execution_count": 60,
     "metadata": {},
     "output_type": "execute_result"
    }
   ],
   "source": [
    "name_surname=\"Kumar Kaustubh\"\n",
    "type(name_surname)"
   ]
  },
  {
   "cell_type": "markdown",
   "id": "5b0c368c",
   "metadata": {},
   "source": [
    "### Type Conversion or Type Casting\n",
    "This is used for changing the type of a data"
   ]
  },
  {
   "cell_type": "code",
   "execution_count": 3,
   "id": "ea2d2636",
   "metadata": {},
   "outputs": [
    {
     "name": "stdout",
     "output_type": "stream",
     "text": [
      "What is your name?Kaustubh\n",
      "Your name has 8 characters\n"
     ]
    }
   ],
   "source": [
    "num_char = len(input(\"What is your name?\")) #num_char is an integer\n",
    "new_num_char = str(num_char) #changed num_char to string and stored in new_num_char\n",
    "print(\"Your name has \"+ new_num_char + \" characters\") #Using string concatenation after converting int to str"
   ]
  },
  {
   "cell_type": "markdown",
   "id": "0d350667",
   "metadata": {},
   "source": [
    "### Exercise : Adding the digits of a two digit number\n",
    "Note : By default, input function takes str data type"
   ]
  },
  {
   "cell_type": "code",
   "execution_count": 4,
   "id": "e4cda14c",
   "metadata": {},
   "outputs": [
    {
     "name": "stdout",
     "output_type": "stream",
     "text": [
      "Enter the two digit number: 39\n",
      "Sum of digits of the two digit number that you enetered is : 12\n"
     ]
    }
   ],
   "source": [
    "two_digit_number = input(\"Enter the two digit number: \") #Two digit number taken as string\n",
    "digit_one = int(two_digit_number[0]) #Each character of string converted to integer\n",
    "digit_two = int(two_digit_number[1])\n",
    "sum_of_digits = digit_one + digit_two #Summing up integers after typecasting\n",
    "print(\"Sum of digits of the two digit number that you enetered is :\" , sum_of_digits)"
   ]
  },
  {
   "cell_type": "markdown",
   "id": "bb41b7d6",
   "metadata": {},
   "source": [
    "Note : Division always gives float as output even if the division is clean."
   ]
  },
  {
   "cell_type": "code",
   "execution_count": 73,
   "id": "7746a53b",
   "metadata": {},
   "outputs": [
    {
     "name": "stdout",
     "output_type": "stream",
     "text": [
      "<class 'float'>\n"
     ]
    }
   ],
   "source": [
    "print(type(24/6))"
   ]
  },
  {
   "cell_type": "markdown",
   "id": "13c6fe64",
   "metadata": {},
   "source": [
    "### PEMDAS Rule:\n",
    "Peranthesis<br>\n",
    "Exponents<br>\n",
    "Multiplication/Division<br>\n",
    "Addition/Subtraction\n",
    "\n",
    "Note: [Multiplication and Division] and [Addition and Subtraction] have equal priority and whichever is to the left of the calculation is given the priority."
   ]
  },
  {
   "cell_type": "code",
   "execution_count": 74,
   "id": "92487535",
   "metadata": {},
   "outputs": [
    {
     "data": {
      "text/plain": [
       "7.0"
      ]
     },
     "execution_count": 74,
     "metadata": {},
     "output_type": "execute_result"
    }
   ],
   "source": [
    "3 * 3 + 3 / 3 - 3"
   ]
  },
  {
   "cell_type": "markdown",
   "id": "a77fb5c5",
   "metadata": {},
   "source": [
    "### Exercise : BMI Calculator"
   ]
  },
  {
   "cell_type": "code",
   "execution_count": 78,
   "id": "f6482e37",
   "metadata": {},
   "outputs": [
    {
     "name": "stdout",
     "output_type": "stream",
     "text": [
      "Enter Your weight in KG: 102\n",
      "Enter Your height in meters: 1.88\n",
      "Your BMI is:  28.85921231326392\n"
     ]
    }
   ],
   "source": [
    "weight_in_kg = float(input (\"Enter Your weight in KG: \")) #Changing the str input to float\n",
    "height_in_m = float(input(\"Enter Your height in meters: \")) #Changing the str input to float\n",
    "height_squared = height_in_m**2\n",
    "bmi = weight_in_kg/height_squared\n",
    "print(\"Your BMI is: \",bmi)"
   ]
  },
  {
   "cell_type": "markdown",
   "id": "6c82f613",
   "metadata": {},
   "source": [
    "### Rounding off the numbers : round() function\n"
   ]
  },
  {
   "cell_type": "markdown",
   "id": "9c6c976b",
   "metadata": {},
   "source": [
    " round (calculation/variable_name, number of digits upto which we want to round off the calculation/variable_name)"
   ]
  },
  {
   "cell_type": "code",
   "execution_count": 79,
   "id": "7867a2ef",
   "metadata": {},
   "outputs": [
    {
     "data": {
      "text/plain": [
       "3.3333333333333335"
      ]
     },
     "execution_count": 79,
     "metadata": {},
     "output_type": "execute_result"
    }
   ],
   "source": [
    "10/3"
   ]
  },
  {
   "cell_type": "code",
   "execution_count": 80,
   "id": "d25897f7",
   "metadata": {},
   "outputs": [
    {
     "data": {
      "text/plain": [
       "3.33"
      ]
     },
     "execution_count": 80,
     "metadata": {},
     "output_type": "execute_result"
    }
   ],
   "source": [
    "round(10/3, 2)"
   ]
  },
  {
   "cell_type": "code",
   "execution_count": 83,
   "id": "b474515c",
   "metadata": {},
   "outputs": [
    {
     "name": "stdout",
     "output_type": "stream",
     "text": [
      "2.67\n"
     ]
    }
   ],
   "source": [
    "x = 8/3\n",
    "y = round(x, 2)\n",
    "print(y)"
   ]
  },
  {
   "cell_type": "markdown",
   "id": "20d6f3cd",
   "metadata": {},
   "source": [
    "### Floor Division : \n",
    "\n",
    "\n",
    "Gives the integer part of the division, illustrated in the below examples"
   ]
  },
  {
   "cell_type": "code",
   "execution_count": 86,
   "id": "0750caa1",
   "metadata": {},
   "outputs": [
    {
     "data": {
      "text/plain": [
       "2.6666666666666665"
      ]
     },
     "execution_count": 86,
     "metadata": {},
     "output_type": "execute_result"
    }
   ],
   "source": [
    "8/3 # Normal division"
   ]
  },
  {
   "cell_type": "code",
   "execution_count": 87,
   "id": "7ea6fc73",
   "metadata": {},
   "outputs": [
    {
     "data": {
      "text/plain": [
       "2"
      ]
     },
     "execution_count": 87,
     "metadata": {},
     "output_type": "execute_result"
    }
   ],
   "source": [
    "8//3 # Floor division"
   ]
  },
  {
   "cell_type": "markdown",
   "id": "50e3f7a1",
   "metadata": {},
   "source": [
    "##### Note : Both x=x+1 and x+=1 are same things"
   ]
  },
  {
   "cell_type": "code",
   "execution_count": 88,
   "id": "433f0612",
   "metadata": {},
   "outputs": [
    {
     "name": "stdout",
     "output_type": "stream",
     "text": [
      "14\n"
     ]
    }
   ],
   "source": [
    "x=12\n",
    "x=x+2\n",
    "print(x)"
   ]
  },
  {
   "cell_type": "code",
   "execution_count": 89,
   "id": "e72b2e79",
   "metadata": {},
   "outputs": [
    {
     "name": "stdout",
     "output_type": "stream",
     "text": [
      "17\n"
     ]
    }
   ],
   "source": [
    "y=15\n",
    "y+=2\n",
    "print(y)"
   ]
  },
  {
   "cell_type": "markdown",
   "id": "68d85fe5",
   "metadata": {},
   "source": [
    "### Using f-string to print multiple data types without type conversion : \n",
    "We need to use the letter f before the quote and put the variables inside the curly brackets inside the print statement regardless of the data type of the variable."
   ]
  },
  {
   "cell_type": "code",
   "execution_count": 93,
   "id": "d29661a1",
   "metadata": {},
   "outputs": [
    {
     "name": "stdout",
     "output_type": "stream",
     "text": [
      "My name is Kumar Kaustubh, my height is 1.88 meters, my weight is 102 kg and I am a winner is True\n"
     ]
    }
   ],
   "source": [
    "height = 1.88\n",
    "name = 'Kumar Kaustubh'\n",
    "iswinning = True\n",
    "weight = 102\n",
    "print(f\"My name is {name}, my height is {height} meters, my weight is {weight} kg and I am a winner is {iswinning}\")"
   ]
  },
  {
   "cell_type": "markdown",
   "id": "b383620c",
   "metadata": {},
   "source": [
    "### Exercise : Life in weeks"
   ]
  },
  {
   "cell_type": "markdown",
   "id": "d7f1b0ff",
   "metadata": {},
   "source": [
    "Create a program using maths and f-Strings that tells us how many days, weeks, months we have left if we live until 90 years old. It will take your current age as the input and output a message with our time left in this format:\n",
    "You have x days, y weeks, and z months left."
   ]
  },
  {
   "cell_type": "code",
   "execution_count": 98,
   "id": "28cc3760",
   "metadata": {},
   "outputs": [
    {
     "name": "stdout",
     "output_type": "stream",
     "text": [
      "Enter Your Current age : 27\n",
      "You have 22995 days, 3276 weeks and 756 months left\n"
     ]
    }
   ],
   "source": [
    "age = int(input(\"Enter Your Current age : \"))\n",
    "age_left = 90-age\n",
    "left_in_days = age_left*365\n",
    "left_in_weeks = age_left*52\n",
    "left_in_months = age_left*12\n",
    "\n",
    "print(f\"You have {left_in_days} days, {left_in_weeks} weeks and {left_in_months} months left\")"
   ]
  },
  {
   "cell_type": "markdown",
   "id": "b317c214",
   "metadata": {},
   "source": [
    "### Exercise : Tip Calculator"
   ]
  },
  {
   "cell_type": "code",
   "execution_count": 104,
   "id": "670ce747",
   "metadata": {},
   "outputs": [
    {
     "name": "stdout",
     "output_type": "stream",
     "text": [
      "Enter the total amount in ₹: 7588\n",
      "Enter what percentage of tip would you like to give : 10, 12 or 15? 12\n",
      "How many people to split the bill into: 4\n",
      "You should pay ₹ 910.56  as tip and each person should pay ₹ 2124.64\n"
     ]
    }
   ],
   "source": [
    "amount = float(input(\"Enter the total amount in ₹: \"))\n",
    "percent = int(input(\"Enter what percentage of tip would you like to give : 10, 12 or 15? \"))\n",
    "split = int(input(\"How many people to split the bill into: \"))\n",
    "tip = round((percent/100)*amount,2)\n",
    "total_bill = amount + tip\n",
    "each_person = total_bill/split\n",
    "print(\"You should pay ₹\", tip,\" as tip and each person should pay ₹\", each_person)"
   ]
  },
  {
   "cell_type": "markdown",
   "id": "2a81bd6b",
   "metadata": {},
   "source": [
    "# Day 3 : Control Flow and Logical Operators"
   ]
  },
  {
   "cell_type": "markdown",
   "id": "e7cbea9d",
   "metadata": {},
   "source": [
    "### If-else Conditionals"
   ]
  },
  {
   "cell_type": "markdown",
   "id": "bede5974",
   "metadata": {},
   "source": [
    "According to if/else, depending upon a particular condition, we will do either task A or task B. if and else are essentially a pair.<br> \n",
    "\n",
    "if condtion : <br>\n",
    "> do this <br>\n",
    "\n",
    "else : <br>\n",
    "> do this <br>"
   ]
  },
  {
   "cell_type": "markdown",
   "id": "e16cbad1",
   "metadata": {},
   "source": [
    "### Exercise : Rollercoster ride ticket"
   ]
  },
  {
   "cell_type": "code",
   "execution_count": 6,
   "id": "9078f216",
   "metadata": {},
   "outputs": [
    {
     "name": "stdout",
     "output_type": "stream",
     "text": [
      "please enter your height in centimeters: 120\n",
      "Great! You can ride the rollercoster!!\n"
     ]
    }
   ],
   "source": [
    "height = float(input(\"please enter your height in centimeters: \"))\n",
    "if height >= 120:\n",
    "    print(\"Great! You can ride the rollercoster!!\")\n",
    "else :\n",
    "    print(\"Sorry! You can't ride the rollercoster.\")"
   ]
  },
  {
   "cell_type": "markdown",
   "id": "bc7ea999",
   "metadata": {},
   "source": [
    "Note : Everything that is indented after the if is a block of code.<br>\n",
    "Note : singal equal sign = means we are assigning a value to a particular variable. Double equal sign == means we are checking if two things are equal or not."
   ]
  },
  {
   "cell_type": "markdown",
   "id": "861cad41",
   "metadata": {},
   "source": [
    "### Exercise : Odd or Even"
   ]
  },
  {
   "cell_type": "code",
   "execution_count": 10,
   "id": "f6fbebd4",
   "metadata": {},
   "outputs": [
    {
     "name": "stdout",
     "output_type": "stream",
     "text": [
      "Enter an integer: 21\n",
      "The entered number is odd\n"
     ]
    }
   ],
   "source": [
    "number = int(input(\"Enter an integer: \"))\n",
    "if number%2 == 0:\n",
    "    print(\"The entered number is even.\")\n",
    "else:\n",
    "    print(\"The entered number is odd\")"
   ]
  },
  {
   "cell_type": "markdown",
   "id": "733a4666",
   "metadata": {},
   "source": [
    "% is called modulo operator which gives us the remainder of the division, as illustrated below."
   ]
  },
  {
   "cell_type": "code",
   "execution_count": 11,
   "id": "0a32858e",
   "metadata": {},
   "outputs": [
    {
     "name": "stdout",
     "output_type": "stream",
     "text": [
      "3\n"
     ]
    }
   ],
   "source": [
    "print(23%5)"
   ]
  },
  {
   "cell_type": "markdown",
   "id": "b3ca7312",
   "metadata": {},
   "source": [
    "### Nested if-else :"
   ]
  },
  {
   "cell_type": "markdown",
   "id": "7e713481",
   "metadata": {},
   "source": [
    "if condition_1:<br>\n",
    "> if condtion_2: <br>\n",
    ">> Do this<br>\n",
    "\n",
    "> else :<br>\n",
    ">> Do this\n",
    "\n",
    "else:<br>\n",
    "> Do this"
   ]
  },
  {
   "cell_type": "code",
   "execution_count": 21,
   "id": "e012ee0a",
   "metadata": {},
   "outputs": [
    {
     "name": "stdout",
     "output_type": "stream",
     "text": [
      "please enter your height in centimeters: 152\n",
      "Great! You can ride the rollercoster!!\n",
      "Please enter your age: 44\n",
      "You need to pay $15 for the ride.\n"
     ]
    }
   ],
   "source": [
    "height = float(input(\"please enter your height in centimeters: \"))\n",
    "\n",
    "if height >= 120:\n",
    "    \n",
    "    print(\"Great! You can ride the rollercoster!!\")\n",
    "    age = int(input(\"Please enter your age: \"))\n",
    "    \n",
    "    if age >= 18:\n",
    "        print(\"You need to pay $15 for the ride.\")\n",
    "    else:\n",
    "        print(\"You need to pay $11 for the ride.\")\n",
    "else :\n",
    "    print(\"Sorry! You can't ride the rollercoster.\")"
   ]
  },
  {
   "cell_type": "code",
   "execution_count": 22,
   "id": "6c5ea4f4",
   "metadata": {},
   "outputs": [
    {
     "name": "stdout",
     "output_type": "stream",
     "text": [
      "please enter your height in centimeters: 189\n",
      "Please enter your age: 19\n",
      "Great! You can ride the rollercoster!!\n",
      "You need to pay $15 for the ride.\n"
     ]
    }
   ],
   "source": [
    "height = float(input(\"please enter your height in centimeters: \"))\n",
    "age = int(input(\"Please enter your age: \"))\n",
    "if height >= 120:\n",
    "    \n",
    "    print(\"Great! You can ride the rollercoster!!\")\n",
    "    if age >= 18:\n",
    "        print(\"You need to pay $15 for the ride.\")\n",
    "    else:\n",
    "        print(\"You need to pay $11 for the ride.\")\n",
    "else :\n",
    "    print(\"Sorry! You can't ride the rollercoster.\")"
   ]
  },
  {
   "cell_type": "markdown",
   "id": "66da2fdd",
   "metadata": {},
   "source": [
    "### if-elif \n",
    "elif can be used to check for multiple condition.\n",
    "\n",
    "if condition_1:<br>\n",
    "> Do A<br>\n",
    "\n",
    "elif condtion_2: <br>\n",
    "> Do B<br>\n",
    "\n",
    "elif condtion_3: <br>\n",
    "> Do C<br>\n",
    "\n",
    "else :<br>\n",
    "> Do D"
   ]
  },
  {
   "cell_type": "markdown",
   "id": "ec28c420",
   "metadata": {},
   "source": [
    "Note : In case of if-else and if-elif-else it exits the loop as soon as one of the conditions is met, the only difference being that in if-else we check only one of the conditions and in case of if-elif-else, we can check as many conditions using elif. However, only one of them will be carried out and rest will be bypassed."
   ]
  },
  {
   "cell_type": "code",
   "execution_count": 27,
   "id": "be5bbbd6",
   "metadata": {},
   "outputs": [
    {
     "name": "stdout",
     "output_type": "stream",
     "text": [
      "please enter your height in centimeters: 185\n",
      "Great! You can ride the rollercoster!!\n",
      "Please enter your age: 27\n",
      "You need to pay $15 for the ride.\n"
     ]
    }
   ],
   "source": [
    "height = float(input(\"please enter your height in centimeters: \"))\n",
    "\n",
    "if height >= 120:\n",
    "    print(\"Great! You can ride the rollercoster!!\")\n",
    "    age = int(input(\"Please enter your age: \"))\n",
    "    \n",
    "    if age < 12:\n",
    "        print(\"You need to pay $7 for the ride.\")\n",
    "    elif age <= 18:\n",
    "        print(\"You need to pay $11 for the ride.\")\n",
    "    else:\n",
    "        print(\"You need to pay $15 for the ride.\")\n",
    "\n",
    "else :\n",
    "    print(\"Sorry! You can't ride the rollercoster.\")"
   ]
  },
  {
   "cell_type": "markdown",
   "id": "6f4cf9f2",
   "metadata": {},
   "source": [
    "### Exercise : BMI Calculator 2.0"
   ]
  },
  {
   "cell_type": "code",
   "execution_count": 41,
   "id": "a8d45655",
   "metadata": {},
   "outputs": [
    {
     "name": "stdout",
     "output_type": "stream",
     "text": [
      "Enter Your weight in kg: 78\n",
      "Enter Your height in meters1.77\n",
      "Your BMI is 24.9 and you are normal weight\n"
     ]
    }
   ],
   "source": [
    "weight = float(input(\"Enter Your weight in kg: \"))\n",
    "height = float(input(\"Enter Your height in meters\"))\n",
    "bmi = round(weight/(height**2),2)\n",
    "\n",
    "\n",
    "if bmi < 18.5:\n",
    "    print(f\"Your BMI is {bmi} and you are underweight\")\n",
    "elif bmi <= 25: # if less than 18.5 is false already, then bmi <=25 covers the case of 18.5<bmi<25\n",
    "    print(f\"Your BMI is {bmi} and you are normal weight\")\n",
    "elif bmi <30 : # if less than 18.5 and less than 25 is false then the case <30 covers 25.5<bmi<30\n",
    "    print(f\"Your BMI is {bmi} and you are overweight weight\")\n",
    "elif bmi <=35: # if less than 18.5, less than 25 and less than 30 is false then the case >=35 covers 30<bmi<30.5\n",
    "    print(f\"Your BMI is {bmi} and you are obese\")\n",
    "else :\n",
    "    print(f\"Your BMI is {bmi} and you are clinically obese\")"
   ]
  },
  {
   "cell_type": "markdown",
   "id": "fd40c340",
   "metadata": {},
   "source": [
    "### Exercise : Leap Year or not"
   ]
  },
  {
   "cell_type": "markdown",
   "id": "3dd079b7",
   "metadata": {},
   "source": [
    "Basically, there are two ways of knowing whether a year is leap year or not:<br>\n",
    "> 1.if the year is cleanely division by 4, then it is a leap year.<br>\n",
    "> 2.if the year is cleanely divsible by 100, then it must also be cleanely divisible by 400 to be a leap year."
   ]
  },
  {
   "cell_type": "code",
   "execution_count": 4,
   "id": "5dee597d",
   "metadata": {},
   "outputs": [
    {
     "name": "stdout",
     "output_type": "stream",
     "text": [
      "Enter the year:1996\n",
      "it is a leap year!\n"
     ]
    }
   ],
   "source": [
    "year = int(input(\"Enter the year:\"))\n",
    "\n",
    "if (year%4 == 0) or (year%100 == 0 and year%400 == 0):\n",
    "    print(\"it is a leap year!\")\n",
    "else : \n",
    "    print(\"Not a leap year\")\n",
    "    "
   ]
  },
  {
   "cell_type": "markdown",
   "id": "6c04d21c",
   "metadata": {},
   "source": [
    "### Leap year Calculation using only if and else :\n",
    "\n"
   ]
  },
  {
   "cell_type": "code",
   "execution_count": 98,
   "id": "71a1d72b",
   "metadata": {},
   "outputs": [
    {
     "name": "stdout",
     "output_type": "stream",
     "text": [
      "Enter the year you want to check? 4404\n",
      "The year is leap year\n"
     ]
    }
   ],
   "source": [
    "year = int(input(\"Enter the year you want to check? \"))\n",
    "if year%4 == 0:\n",
    "    print(\"The year is leap year\")\n",
    "else :\n",
    "    if year%100 == 0:\n",
    "        if year%400 == 0:\n",
    "            print(\"It is a leap year\")\n",
    "    else :\n",
    "        print(\"Not a leap year\")"
   ]
  },
  {
   "cell_type": "markdown",
   "id": "22d899ce",
   "metadata": {},
   "source": [
    "In case of if-else or if-elif-else, we only check all the conditions untill one of them is true and bypass all the other conditions. For example, in case of rollercoster ride, if the customer wants to take a picture, this condition should be checked regardless of the age or height. To do this, we write multiple if conditions. In case of if-elif-else, only one of the tasks will be carried out but in case of if-if-if, all the true conditions will be carried out.\n",
    "\n",
    "\n",
    "if condition_1:<br>\n",
    "> Do A <br>\n",
    "\n",
    "if condition_2:<br>\n",
    "> Do B <br>\n",
    "\n",
    "if condition_3: <br>\n",
    "> Do C <br>"
   ]
  },
  {
   "cell_type": "code",
   "execution_count": 102,
   "id": "40f1d3df",
   "metadata": {},
   "outputs": [
    {
     "name": "stdout",
     "output_type": "stream",
     "text": [
      "please enter your height in centimeters: 189\n",
      "Great! You can ride the rollercoster!!\n",
      "Please enter your age: 16\n",
      "you are between 12 and 18 years of age category!\n",
      "Would you like a photo taken while you're riding? Type Y or N.Y\n",
      "You need to pay $ 14  in total\n"
     ]
    }
   ],
   "source": [
    "height = float(input(\"please enter your height in centimeters: \"))\n",
    "final_bill=0\n",
    "if height >= 120:\n",
    "    print(\"Great! You can ride the rollercoster!!\")\n",
    "    age = int(input(\"Please enter your age: \"))\n",
    "    \n",
    "    if age < 12:\n",
    "        final_bill=5\n",
    "        print(\"You are under 12 years of age category!\")\n",
    "    elif age <= 18:\n",
    "        final_bill=11\n",
    "        print(\"you are between 12 and 18 years of age category!\")\n",
    "    else:\n",
    "        final_bill=15\n",
    "        print(\"You are above 18 years if age category\")\n",
    "    photo = input(\"Would you like a photo taken while you're riding? Type Y or N.\")\n",
    "    if photo == \"Y\" :\n",
    "        final_bill = final_bill + 3\n",
    "        print(\"You need to pay $\",final_bill, \" in total\")\n",
    "\n",
    "else :\n",
    "    print(\"Sorry! You can't ride the rollercoster.\")"
   ]
  },
  {
   "cell_type": "markdown",
   "id": "6994e306",
   "metadata": {},
   "source": [
    "### Exercise : Pizza order system"
   ]
  },
  {
   "cell_type": "markdown",
   "id": "81a5317e",
   "metadata": {},
   "source": [
    "Congratulations, you've got a job at Python Pizza. Your first job is to build an automatic pizza order program.\n",
    "\n",
    "Based on a user's order, work out their final bill.\n",
    "\n",
    "Small Pizza: $15\n",
    "\n",
    "Medium Pizza: $20\n",
    "\n",
    "Large Pizza: $25\n",
    "\n",
    "Pepperoni for Small Pizza: +$2\n",
    "\n",
    "Pepperoni for Medium or Large Pizza: +$3\n",
    "\n",
    "Extra cheese for any size pizza: + $1"
   ]
  },
  {
   "cell_type": "code",
   "execution_count": 111,
   "id": "cfcf2b05",
   "metadata": {},
   "outputs": [
    {
     "name": "stdout",
     "output_type": "stream",
     "text": [
      "Welcome to python pizza. Which pizza would you like to order. Type S for small, M for medium and L for large: L\n",
      "A large pizza costs $25. Would you like pepperoni? Type Y or N: N\n",
      "Great! Would you like some extra cheese? Type Y or N: Y\n",
      "You need to pay $26\n"
     ]
    }
   ],
   "source": [
    "pizza_size=input(\"Welcome to python pizza. Which pizza would you like to order. Type S for small, M for medium and L for large: \")\n",
    "final_amount = 0\n",
    "if pizza_size == \"S\":\n",
    "    final_amount = 15\n",
    "    pepproni_small = input(\"A small pizza costs $15. Would you like pepperoni? Type Y or N: \")\n",
    "    if pepproni_small == \"Y\":\n",
    "        final_amount = final_amount + 2\n",
    "\n",
    "elif pizza_size == \"M\":\n",
    "    final_amount = 20\n",
    "    pepproni_medium = input(\"A Medium pizza costs $20. Would you like pepperoni? Type Y or N: \")\n",
    "    if pepproni_medium == \"Y\":\n",
    "        final_amount = final_amount + 3\n",
    "\n",
    "else:\n",
    "    final_amount = 25\n",
    "    pepproni_large = input(\"A large pizza costs $25. Would you like pepperoni? Type Y or N: \")\n",
    "    if pepproni_large == \"Y\":\n",
    "        final_amount = final_amount + 3\n",
    "\n",
    "extra_cheese = input(\"Great! Would you like some extra cheese? Type Y or N: \")\n",
    "if extra_cheese == \"Y\":\n",
    "    final_amount = final_amount + 1\n",
    "    print(f\"You need to pay ${final_amount}\")\n",
    "else :\n",
    "    print(f\"You need to pay ${final_amount}\")"
   ]
  },
  {
   "cell_type": "markdown",
   "id": "2db9cbd8",
   "metadata": {},
   "source": [
    "### Checking multiple conditions in a single if statement : Logical Operators"
   ]
  },
  {
   "cell_type": "markdown",
   "id": "2829bd66",
   "metadata": {},
   "source": [
    "if condition_1 & condition_2 :<br>\n",
    "> Do A<br>\n",
    "\n",
    "else:<br>\n",
    "> Do B\n",
    "\n",
    "#### and , or , not are the three logical operators"
   ]
  },
  {
   "cell_type": "code",
   "execution_count": 129,
   "id": "02e545ba",
   "metadata": {},
   "outputs": [
    {
     "name": "stdout",
     "output_type": "stream",
     "text": [
      "please enter your height in centimeters: 178\n",
      "Great! You can ride the rollercoster!!\n",
      "Please enter your age: 48\n",
      "Go on don't pay anything for the ride!\n",
      "Would you like a photo taken while you're riding? Type Y or N.Y\n",
      "You need to pay $ 3  in total\n"
     ]
    }
   ],
   "source": [
    "height = float(input(\"please enter your height in centimeters: \"))\n",
    "final_bill=0\n",
    "if height >= 120:\n",
    "    print(\"Great! You can ride the rollercoster!!\")\n",
    "    age = int(input(\"Please enter your age: \"))\n",
    "    \n",
    "    if age < 12:\n",
    "        final_bill=5\n",
    "        print(\"You are under 12 years of age category!\")\n",
    "    elif age <= 18:\n",
    "        final_bill=11\n",
    "        print(\"you are between 12 and 18 years of age category!\")\n",
    "    elif age<=55 and age>=45:\n",
    "        print(\"Go on don't pay anything for the ride!\")\n",
    "    else:\n",
    "        final_bill=15\n",
    "        print(\"You are above 18 years if age category\")\n",
    "    photo = input(\"Would you like a photo taken while you're riding? Type Y or N.\")\n",
    "    if photo == \"Y\" :\n",
    "        final_bill = final_bill + 3\n",
    "        print(\"You need to pay $\",final_bill, \" in total\")\n",
    "    else :\n",
    "         print(\"You need to pay $\",final_bill, \" in total\")\n",
    "else :\n",
    "    print(\"Sorry! You can't ride the rollercoster.\")"
   ]
  },
  {
   "cell_type": "markdown",
   "id": "84d7ad08",
   "metadata": {},
   "source": [
    "### Using count() and lower() function:"
   ]
  },
  {
   "cell_type": "code",
   "execution_count": 130,
   "id": "ec646afa",
   "metadata": {},
   "outputs": [
    {
     "data": {
      "text/plain": [
       "2"
      ]
     },
     "execution_count": 130,
     "metadata": {},
     "output_type": "execute_result"
    }
   ],
   "source": [
    "\"happy\".count(\"p\")"
   ]
  },
  {
   "cell_type": "code",
   "execution_count": 131,
   "id": "6341d7ec",
   "metadata": {},
   "outputs": [],
   "source": [
    "lower_case = \"HelloBROther\".lower()"
   ]
  },
  {
   "cell_type": "code",
   "execution_count": 132,
   "id": "7919b384",
   "metadata": {},
   "outputs": [
    {
     "data": {
      "text/plain": [
       "'hellobrother'"
      ]
     },
     "execution_count": 132,
     "metadata": {},
     "output_type": "execute_result"
    }
   ],
   "source": [
    "lower_case"
   ]
  },
  {
   "cell_type": "markdown",
   "id": "68e1c776",
   "metadata": {},
   "source": [
    "### Exercise : Love Calculator"
   ]
  },
  {
   "cell_type": "markdown",
   "id": "b89b1d64",
   "metadata": {},
   "source": [
    "You are going to write a program that tests the compatibility between two people.\n",
    "\n",
    "To work out the love score between two people:\n",
    "\n",
    "Take both people's names and check for the number of times the letters in the word TRUE occurs. \n",
    "\n",
    "Then check for the number of times the letters in the word LOVE occurs. \n",
    "\n",
    "Then combine these numbers to make a 2 digit number.\n",
    "\n",
    "For Love Scores less than 10 or greater than 90, the message should be:\n",
    "\n",
    "For Love Scores less than 10 or greater than 90, the message should be:\n",
    "\n",
    "\"Your score is **x**, you go together like coke and mentos.\"\n",
    "For Love Scores between 40 and 50, the message should be:\n",
    "\n",
    "\"Your score is **y**, you are alright together.\"\n",
    "Otherwise, the message will just be their score. e.g.:\n",
    "\n",
    "\"Your score is **z**.\"\n",
    "e.g.\n",
    "\n",
    "name1 = \"Angela Yu\"\n",
    "name2 = \"Jack Bauer\"\n",
    "T occurs 0 times\n",
    "\n",
    "R occurs 1 time\n",
    "\n",
    "U occurs 2 times\n",
    "\n",
    "E occurs 2 times\n",
    "\n",
    "Total = 5\n",
    "\n",
    "L occurs 1 time\n",
    "\n",
    "O occurs 0 times\n",
    "\n",
    "V occurs 0 times\n",
    "\n",
    "E occurs 2 times\n",
    "\n",
    "Total = 3\n",
    "\n",
    "Love Score = 53\n",
    "\n",
    "Print: \"Your score is 53.\"\n",
    "\n",
    "Example Input 1\n",
    "name1 = \"Kanye West\"\n",
    "name2 = \"Kim Kardashian\"\n",
    "Example Output 1\n",
    "Your score is 42, you are alright together."
   ]
  },
  {
   "cell_type": "code",
   "execution_count": 143,
   "id": "0654db43",
   "metadata": {},
   "outputs": [
    {
     "name": "stdout",
     "output_type": "stream",
     "text": [
      "Enter the first name:Angela Yu\n",
      "Enter the second name:\tJack Bauer\n",
      "Your score is 53\n"
     ]
    }
   ],
   "source": [
    "name_1 = input(\"Enter the first name:\")\n",
    "name_2 = input(\"Enter the second name:\")\n",
    "\n",
    "name_1_lower = name_1.lower()\n",
    "name_2_lower = name_2.lower()\n",
    "\n",
    "t_count = name_1_lower.count(\"t\") + name_2_lower.count(\"t\")\n",
    "r_count = name_1_lower.count(\"r\") + name_2_lower.count(\"r\")\n",
    "u_count = name_1_lower.count(\"u\") + name_2_lower.count(\"u\")\n",
    "e_count = name_1_lower.count(\"e\") + name_2_lower.count(\"e\")\n",
    "\n",
    "l_count = name_1_lower.count(\"l\") + name_2_lower.count(\"l\")\n",
    "o_count = name_2_lower.count(\"o\") + name_2_lower.count(\"o\")\n",
    "v_count = name_1_lower.count(\"v\") + name_2_lower.count(\"v\")\n",
    "\n",
    "\n",
    "true_count = str(t_count + r_count + u_count + e_count) \n",
    "love_count = str(l_count + o_count + v_count + e_count)\n",
    "\n",
    "score = true_count + love_count\n",
    "score_int = int(score)\n",
    "\n",
    "if score_int >90 or score_int <10:\n",
    "    print(f\"Your score is {score_int}, you go together like coke and mentos.\")\n",
    "\n",
    "elif score_int >40 and score_int <50:\n",
    "    print(f\"Your score is {score_int}, you are alright together.\")\n",
    "\n",
    "else :\n",
    "    print(f\"Your score is {score_int}\")"
   ]
  },
  {
   "cell_type": "markdown",
   "id": "751ff81d",
   "metadata": {},
   "source": [
    "# Day 4 : Randomization and Python lists"
   ]
  },
  {
   "cell_type": "markdown",
   "id": "cd2f9c53",
   "metadata": {},
   "source": [
    "Read about psuedorandom number generators"
   ]
  },
  {
   "cell_type": "code",
   "execution_count": 6,
   "id": "2137d8c7",
   "metadata": {},
   "outputs": [],
   "source": [
    "import random"
   ]
  },
  {
   "cell_type": "markdown",
   "id": "55aac1b8",
   "metadata": {},
   "source": [
    "### Generating a random integer between two integers using randint() function from random module"
   ]
  },
  {
   "cell_type": "markdown",
   "id": "af29f1a1",
   "metadata": {},
   "source": [
    "Every time we'll run the block of code below, we will get three different integers. This incudes both the numbers in parathesis."
   ]
  },
  {
   "cell_type": "code",
   "execution_count": 8,
   "id": "df0279c5",
   "metadata": {},
   "outputs": [
    {
     "name": "stdout",
     "output_type": "stream",
     "text": [
      "74 135 -6\n"
     ]
    }
   ],
   "source": [
    "random_int_1 = random.randint(50,100)\n",
    "random_int_2 = random.randint(100,212)\n",
    "random_int_3 = random.randint(-10,-2)\n",
    "\n",
    "print(random_int_1,random_int_2,random_int_3)"
   ]
  },
  {
   "cell_type": "markdown",
   "id": "83cce905",
   "metadata": {},
   "source": [
    "### What is a module?\n"
   ]
  },
  {
   "cell_type": "markdown",
   "id": "2fb569eb",
   "metadata": {},
   "source": [
    "A Python module is a file containing Python definitions and statements. A module can define functions, classes, and variables. A module can also include runnable code. Grouping related code into a module makes the code easier to understand and use. It also makes the code logically organized."
   ]
  },
  {
   "cell_type": "markdown",
   "id": "85dca9ae",
   "metadata": {},
   "source": [
    "### Creating a module?\n"
   ]
  },
  {
   "cell_type": "markdown",
   "id": "8cb1cdc3",
   "metadata": {},
   "source": [
    "We can use any text editor and write codes in that and save it with .py extension and upload it to jupyter notebook and import it as done below."
   ]
  },
  {
   "cell_type": "code",
   "execution_count": 9,
   "id": "bdffe5e7",
   "metadata": {},
   "outputs": [],
   "source": [
    "import hundred"
   ]
  },
  {
   "cell_type": "code",
   "execution_count": 11,
   "id": "268e363f",
   "metadata": {},
   "outputs": [
    {
     "data": {
      "text/plain": [
       "3.14159246"
      ]
     },
     "execution_count": 11,
     "metadata": {},
     "output_type": "execute_result"
    }
   ],
   "source": [
    "hundred.pi"
   ]
  },
  {
   "cell_type": "markdown",
   "id": "e9a593d5",
   "metadata": {},
   "source": [
    "### Generation of a random floating point number between 0 and 1"
   ]
  },
  {
   "cell_type": "markdown",
   "id": "bf6059ba",
   "metadata": {},
   "source": [
    "random.random() will generate a floating point number in between [0,1) as illustrated below. Every time we run the code we will get different number."
   ]
  },
  {
   "cell_type": "code",
   "execution_count": 12,
   "id": "9cb1831e",
   "metadata": {},
   "outputs": [
    {
     "name": "stdout",
     "output_type": "stream",
     "text": [
      "0.32661672681134546\n"
     ]
    }
   ],
   "source": [
    "random_float = random.random()\n",
    "print(random_float)"
   ]
  },
  {
   "cell_type": "code",
   "execution_count": 14,
   "id": "ae379edf",
   "metadata": {},
   "outputs": [
    {
     "name": "stdout",
     "output_type": "stream",
     "text": [
      "1.8453632804652098\n"
     ]
    }
   ],
   "source": [
    "random_float_any = 5*random.random()\n",
    "print(random_float_any)"
   ]
  },
  {
   "cell_type": "markdown",
   "id": "64c329e0",
   "metadata": {},
   "source": [
    "### Exercise : Heads or Tails"
   ]
  },
  {
   "cell_type": "code",
   "execution_count": 24,
   "id": "645e0580",
   "metadata": {},
   "outputs": [
    {
     "name": "stdout",
     "output_type": "stream",
     "text": [
      "It's a Head!\n"
     ]
    }
   ],
   "source": [
    "coin_toss = random.randint(0,1)\n",
    "\n",
    "if coin_toss == 0:\n",
    "    print(\"It's a Head!\")\n",
    "else :\n",
    "    print(\"it's a tail!\")"
   ]
  },
  {
   "cell_type": "markdown",
   "id": "925262a2",
   "metadata": {},
   "source": [
    "### Python List"
   ]
  },
  {
   "cell_type": "markdown",
   "id": "5d20d4ce",
   "metadata": {},
   "source": [
    "Lists are used to store multiple items in a single variable. It is a type of data structure. In lists, order also matter. A list can store many types of datatypes. "
   ]
  },
  {
   "cell_type": "code",
   "execution_count": 47,
   "id": "17201cb6",
   "metadata": {},
   "outputs": [],
   "source": [
    "states_of_india = [\"Uttar Pradesh\", \"Madhya Pradesh\", \"Bihar\", \"Assam\", \"Karnataka\", \"Goa\"]"
   ]
  },
  {
   "cell_type": "code",
   "execution_count": 48,
   "id": "fd4583ec",
   "metadata": {},
   "outputs": [
    {
     "name": "stdout",
     "output_type": "stream",
     "text": [
      "Madhya Pradesh\n",
      "Assam\n",
      "Goa\n"
     ]
    }
   ],
   "source": [
    "print(states_of_india[1])\n",
    "print(states_of_india[3])\n",
    "print(states_of_india[5])"
   ]
  },
  {
   "cell_type": "markdown",
   "id": "3a8135f7",
   "metadata": {},
   "source": [
    "### Printing items in a list from the end"
   ]
  },
  {
   "cell_type": "code",
   "execution_count": 50,
   "id": "94e18fe4",
   "metadata": {},
   "outputs": [
    {
     "name": "stdout",
     "output_type": "stream",
     "text": [
      "Goa\n",
      "Karnataka\n",
      "Assam\n"
     ]
    }
   ],
   "source": [
    "print(states_of_india[-1])\n",
    "print(states_of_india[-2])\n",
    "print(states_of_india[-3])"
   ]
  },
  {
   "cell_type": "markdown",
   "id": "01a4ee07",
   "metadata": {},
   "source": [
    "### Changing items of a list"
   ]
  },
  {
   "cell_type": "code",
   "execution_count": 51,
   "id": "17d64318",
   "metadata": {},
   "outputs": [],
   "source": [
    "states_of_india[0] = \"UP\""
   ]
  },
  {
   "cell_type": "code",
   "execution_count": 52,
   "id": "e97eb69c",
   "metadata": {},
   "outputs": [
    {
     "name": "stdout",
     "output_type": "stream",
     "text": [
      "['UP', 'Madhya Pradesh', 'Bihar', 'Assam', 'Karnataka', 'Goa']\n"
     ]
    }
   ],
   "source": [
    "print(states_of_india)"
   ]
  },
  {
   "cell_type": "markdown",
   "id": "7e76391c",
   "metadata": {},
   "source": [
    "### Adding items in a list"
   ]
  },
  {
   "cell_type": "markdown",
   "id": "4b82086f",
   "metadata": {},
   "source": [
    "We can use append object to add an item at the end of a list as illustrated below"
   ]
  },
  {
   "cell_type": "code",
   "execution_count": 53,
   "id": "23552ef5",
   "metadata": {},
   "outputs": [],
   "source": [
    "states_of_india.append(\"Maharashtra\")"
   ]
  },
  {
   "cell_type": "code",
   "execution_count": 54,
   "id": "648238a9",
   "metadata": {},
   "outputs": [
    {
     "data": {
      "text/plain": [
       "['UP', 'Madhya Pradesh', 'Bihar', 'Assam', 'Karnataka', 'Goa', 'Maharashtra']"
      ]
     },
     "execution_count": 54,
     "metadata": {},
     "output_type": "execute_result"
    }
   ],
   "source": [
    "states_of_india"
   ]
  },
  {
   "cell_type": "markdown",
   "id": "c90425b9",
   "metadata": {},
   "source": [
    "### Adding a list to a list using extend()"
   ]
  },
  {
   "cell_type": "code",
   "execution_count": 55,
   "id": "3f78607b",
   "metadata": {},
   "outputs": [],
   "source": [
    "states_of_india.extend([\"Telangana\",\"Haryana\",\"Mizoram\"])"
   ]
  },
  {
   "cell_type": "code",
   "execution_count": 56,
   "id": "e2e9babc",
   "metadata": {},
   "outputs": [
    {
     "data": {
      "text/plain": [
       "['UP',\n",
       " 'Madhya Pradesh',\n",
       " 'Bihar',\n",
       " 'Assam',\n",
       " 'Karnataka',\n",
       " 'Goa',\n",
       " 'Maharashtra',\n",
       " 'Telangana',\n",
       " 'Haryana',\n",
       " 'Mizoram']"
      ]
     },
     "execution_count": 56,
     "metadata": {},
     "output_type": "execute_result"
    }
   ],
   "source": [
    "states_of_india"
   ]
  },
  {
   "cell_type": "markdown",
   "id": "17fe6eda",
   "metadata": {},
   "source": [
    "### Converting a string to a list"
   ]
  },
  {
   "cell_type": "markdown",
   "id": "b213dabe",
   "metadata": {},
   "source": [
    "We can use split() to convert a string to a list."
   ]
  },
  {
   "cell_type": "code",
   "execution_count": 63,
   "id": "a1044e19",
   "metadata": {},
   "outputs": [
    {
     "name": "stdout",
     "output_type": "stream",
     "text": [
      "Enter the names separated by commas and space: kaustubh, ved, kaushal, vikas, anwar, pandit\n",
      "['kaustubh', 'ved', 'kaushal', 'vikas', 'anwar', 'pandit']\n",
      "<class 'str'> <class 'list'>\n"
     ]
    }
   ],
   "source": [
    "names_as_string = input(\"Enter the names separated by commas and space: \")\n",
    "names_as_list = names_as_string.split(\", \")\n",
    "print(names_as_list)\n",
    "print(type(names_as_string), type(names_as_list))"
   ]
  },
  {
   "cell_type": "markdown",
   "id": "4578067c",
   "metadata": {},
   "source": [
    "### Exercise: Banker's Roulette\n",
    "\n",
    "NOTE: It basically takes the name of people as string, converts it to a list, calculates the length of the list, i.e number of items in the list and then generates a random index between 0 to 1 less than the number of people and assigns it to payee."
   ]
  },
  {
   "cell_type": "code",
   "execution_count": 27,
   "id": "35836578",
   "metadata": {},
   "outputs": [
    {
     "name": "stdout",
     "output_type": "stream",
     "text": [
      "Enter the names of people: kaustubh, pragya, anwar, ved, vikas, sabya, kaushal, pandit\n",
      "pandit is paying for dinner tonight!!\n"
     ]
    }
   ],
   "source": [
    "names_string = input(\"Enter the names of people: \")\n",
    "names_list = names_string.split(\", \")\n",
    "total_people = len(names_list)\n",
    "random_number = random.randint(0, total_people-1)\n",
    "payee = names_list[random_number]\n",
    "print(f\"{payee} is paying for dinner tonight!!\")"
   ]
  },
  {
   "cell_type": "markdown",
   "id": "530fa6a0",
   "metadata": {},
   "source": [
    "### Using random.choice() to pick a random intem from a list "
   ]
  },
  {
   "cell_type": "code",
   "execution_count": 34,
   "id": "5f0bc6cd",
   "metadata": {},
   "outputs": [
    {
     "name": "stdout",
     "output_type": "stream",
     "text": [
      "Enter the names of people: kaustubh, pragya, ved, vikas, anwar, kaushal, sabya, pandit\n",
      "vikas is paying for dinner tonight!!\n"
     ]
    }
   ],
   "source": [
    "names_string = input(\"Enter the names of people: \")\n",
    "names_list = names_string.split(\", \")\n",
    "payee = random.choice(names_list)\n",
    "print(f\"{payee} is paying for dinner tonight!!\")"
   ]
  },
  {
   "cell_type": "markdown",
   "id": "6ca0c75f",
   "metadata": {},
   "source": [
    "### Nested lists"
   ]
  },
  {
   "cell_type": "code",
   "execution_count": 37,
   "id": "f114ea79",
   "metadata": {},
   "outputs": [
    {
     "name": "stdout",
     "output_type": "stream",
     "text": [
      "[['mango', 'orange', 'apple'], ['spinach', 'cabbage', 'ladyfinger']]\n",
      "<class 'list'>\n",
      "['spinach', 'cabbage', 'ladyfinger']\n"
     ]
    }
   ],
   "source": [
    "fruits = [\"mango\", \"orange\", \"apple\"]\n",
    "vegetables = [\"spinach\",\"cabbage\", \"ladyfinger\"]\n",
    "edibles = [fruits, vegetables]\n",
    "print(edibles)\n",
    "print(type(edibles))\n",
    "print(edibles[1])"
   ]
  },
  {
   "cell_type": "code",
   "execution_count": 91,
   "id": "d032da63",
   "metadata": {},
   "outputs": [
    {
     "name": "stdout",
     "output_type": "stream",
     "text": [
      "orange\n",
      "apple\n",
      "mango\n"
     ]
    }
   ],
   "source": [
    "print(edibles[0][1])\n",
    "print(edibles[0][2])\n",
    "print(edibles[0][0])"
   ]
  },
  {
   "cell_type": "code",
   "execution_count": 95,
   "id": "94f51f0f",
   "metadata": {},
   "outputs": [
    {
     "name": "stdout",
     "output_type": "stream",
     "text": [
      "cabbage\n",
      "ladyfinger\n",
      "spinach\n"
     ]
    }
   ],
   "source": [
    "print(edibles[1][1])\n",
    "print(edibles[1][2])\n",
    "print(edibles[1][0])"
   ]
  },
  {
   "cell_type": "markdown",
   "id": "7e7cb056",
   "metadata": {},
   "source": [
    "### Exercise : Rock, Paper and Scissor"
   ]
  },
  {
   "cell_type": "code",
   "execution_count": 49,
   "id": "45117084",
   "metadata": {},
   "outputs": [
    {
     "name": "stdout",
     "output_type": "stream",
     "text": [
      "Welcome to rock, paper and scissor.Press 0 for rock, 1 for paper and 2 for scissors:0\n",
      "You chose :\n",
      "    _______\n",
      "---'   ____)\n",
      "      (_____)\n",
      "      (_____)\n",
      "      (____)\n",
      "---.__(___)\n",
      "\n",
      "computer chose: \n",
      "    _______\n",
      "---'   ____)____\n",
      "          ______)\n",
      "       __________)\n",
      "      (____)\n",
      "---.__(___)\n",
      "\n",
      "You won!!\n"
     ]
    }
   ],
   "source": [
    "rock = '''\n",
    "    _______\n",
    "---'   ____)\n",
    "      (_____)\n",
    "      (_____)\n",
    "      (____)\n",
    "---.__(___)\n",
    "'''\n",
    "\n",
    "paper = '''\n",
    "    _______\n",
    "---'   ____)____\n",
    "          ______)\n",
    "          _______)\n",
    "         _______)\n",
    "---.__________)\n",
    "'''\n",
    "\n",
    "scissors = '''\n",
    "    _______\n",
    "---'   ____)____\n",
    "          ______)\n",
    "       __________)\n",
    "      (____)\n",
    "---.__(___)\n",
    "'''\n",
    "your_choice = int(input(\"Welcome to rock, paper and scissor.Press 0 for rock, 1 for paper and 2 for scissors:\"))\n",
    "computer_choices_available = [rock, paper, scissors]\n",
    "computer_choice = random.choice(computer_choices_available)\n",
    "\n",
    "if your_choice == 0:\n",
    "    print (f\"You chose :{rock}\")\n",
    "    print(f\"computer chose: {computer_choice}\")\n",
    "    if computer_choice == paper:\n",
    "        print(\"You lose!!\")\n",
    "    elif computer_choice == scissors:\n",
    "        print(\"You won!!\")\n",
    "    elif computer_choice == rock:\n",
    "        print(\"It's a draw!\")\n",
    "    \n",
    "elif your_choice == 1:\n",
    "    print (f\"You chose :{paper}\")\n",
    "    print(f\"computer chose: {computer_choice}\")\n",
    "    if computer_choice == paper:\n",
    "        print(\"It's a draw!!\")\n",
    "    elif computer_choice == scissors:\n",
    "        print(\"You lose!!\")\n",
    "    elif computer_choice == rock:\n",
    "        print(\"You win!\")\n",
    "        \n",
    "elif your_choice == 2:\n",
    "    print (f\"You chose :{scissors}\")\n",
    "    print(f\"computer chose: {computer_choice}\")\n",
    "    if computer_choice == paper:\n",
    "        print(\"You win!!\")\n",
    "    elif computer_choice == scissors:\n",
    "        print(\"It's a draw!!\")\n",
    "    elif computer_choice == rock:\n",
    "        print(\"You lose!\")\n",
    "        \n",
    "else :\n",
    "    print(\"You typed an invalid number. Please try again!\")"
   ]
  },
  {
   "cell_type": "markdown",
   "id": "60974151",
   "metadata": {},
   "source": [
    "# Day 5 : Python Loops (01/01/2023)!"
   ]
  },
  {
   "cell_type": "markdown",
   "id": "0b539e76",
   "metadata": {},
   "source": [
    "### For Loops"
   ]
  },
  {
   "cell_type": "markdown",
   "id": "3d068293",
   "metadata": {},
   "source": [
    "for loops can be used to go along in each item of a list using the below mentioned syntax:<br>\n",
    "\n",
    "for item in list_of_items :\n",
    "> Do something\n"
   ]
  },
  {
   "cell_type": "markdown",
   "id": "67d54cab",
   "metadata": {},
   "source": [
    "Using for loops we can print each item in a list one by one. For for loop, we need a variable which will keep changing its<br>\n",
    "value to each of the item in the list and we also need a list."
   ]
  },
  {
   "cell_type": "code",
   "execution_count": 3,
   "id": "7c2f3c00",
   "metadata": {},
   "outputs": [
    {
     "name": "stdout",
     "output_type": "stream",
     "text": [
      "UP\n",
      "Bihar\n",
      "MP\n",
      "Goa\n",
      "Telangana\n"
     ]
    }
   ],
   "source": [
    "states = [\"UP\",\"Bihar\", \"MP\", \"Goa\", \"Telangana\"]\n",
    "for state in states:\n",
    "    print(state)"
   ]
  },
  {
   "cell_type": "markdown",
   "id": "8be7c1b5",
   "metadata": {},
   "source": [
    "Here, the value of state keeps changing to each item in the list in order for each iterations and the list gets printed one by one. state is just a variable name assigned to the items in the list states. We can choose whichever name we need for the state variable as illustrated below."
   ]
  },
  {
   "cell_type": "code",
   "execution_count": 4,
   "id": "adc55622",
   "metadata": {},
   "outputs": [
    {
     "name": "stdout",
     "output_type": "stream",
     "text": [
      "Apple\n",
      "Mango\n",
      "Banana\n",
      "Watermelon\n",
      "Peach\n"
     ]
    }
   ],
   "source": [
    "fruits = [\"Apple\", \"Mango\", \"Banana\", \"Watermelon\", \"Peach\"]\n",
    "for x in fruits:\n",
    "    print(x)"
   ]
  },
  {
   "cell_type": "markdown",
   "id": "c9b2dfef",
   "metadata": {},
   "source": [
    "We can also print other things apart from just printing the items in the list."
   ]
  },
  {
   "cell_type": "code",
   "execution_count": 52,
   "id": "55222992",
   "metadata": {},
   "outputs": [
    {
     "name": "stdout",
     "output_type": "stream",
     "text": [
      "Apple is a good choice\n",
      "Samsung is a good choice\n",
      "Nokia is a good choice\n",
      "Vivo is a good choice\n",
      "OnePlus is a good choice\n",
      "Oppo is a good choice\n",
      "IQOO is a good choice\n",
      "Micromax is a good choice\n",
      "RedMi is a good choice\n"
     ]
    }
   ],
   "source": [
    "mobiles = [\"Apple\", \"Samsung\", \"Nokia\", \"Vivo\", \"OnePlus\", \"Oppo\", \"IQOO\", \"Micromax\", \"RedMi\"]\n",
    "for mobile in mobiles:\n",
    "    print(mobile + \" is a good choice\")"
   ]
  },
  {
   "cell_type": "code",
   "execution_count": 53,
   "id": "317e21e6",
   "metadata": {},
   "outputs": [
    {
     "name": "stdout",
     "output_type": "stream",
     "text": [
      "Enter the heights of students: 145, 155, 165, 175, 185, 195\n",
      "145\n",
      "155\n",
      "165\n",
      "175\n",
      "185\n",
      "195\n"
     ]
    }
   ],
   "source": [
    "height_as_list = input(\"Enter the heights of students: \").split(\", \")\n",
    "for n in height_as_list:\n",
    "    print(n)    "
   ]
  },
  {
   "cell_type": "markdown",
   "id": "e909e023",
   "metadata": {},
   "source": [
    "### Exercise : Average Height\n",
    "\n",
    "NOTE : range(a, b) goes from a to b including a but stops just before b."
   ]
  },
  {
   "cell_type": "code",
   "execution_count": 56,
   "id": "a2f58136",
   "metadata": {},
   "outputs": [
    {
     "name": "stdout",
     "output_type": "stream",
     "text": [
      "Enter a list of heights in centimeters :195, 154, 186, 188, 169, 178, 144, 201\n",
      "\n",
      "Average height of this batch of students in centimeters is:  176.875\n"
     ]
    }
   ],
   "source": [
    "student_heights = input(\"Enter a list of heights in centimeters :\").split(\", \")\n",
    "\n",
    "for n in range(0, len(student_heights)):\n",
    "    student_heights[n] = int(student_heights[n])\n",
    "# print(student_heights)\n",
    "\n",
    "sum = 0\n",
    "for height in student_heights:\n",
    "    sum = sum + height\n",
    "# print(sum)\n",
    "\n",
    "number_of_students = 0\n",
    "for students in student_heights:\n",
    "    number_of_students = number_of_students + 1\n",
    "# print(number_of_students)\n",
    "\n",
    "average_height = sum/number_of_students\n",
    "print(\"\\nAverage height of this batch of students in centimeters is: \", average_height)"
   ]
  },
  {
   "cell_type": "markdown",
   "id": "ab83e7cc",
   "metadata": {},
   "source": [
    "### min() and max() function for a list of numbers"
   ]
  },
  {
   "cell_type": "code",
   "execution_count": 37,
   "id": "35e28a54",
   "metadata": {},
   "outputs": [
    {
     "name": "stdout",
     "output_type": "stream",
     "text": [
      "Enter a list of integers :185, 123, 457, 321, 963, 456, 153, 351\n",
      "minimum number of the list is: 123 and maximum is:963\n"
     ]
    }
   ],
   "source": [
    "numbers = input(\"Enter a list of integers :\").split(\", \")\n",
    "for n in range(0, len(numbers)):\n",
    "    numbers[n] = int(numbers[n])\n",
    "print(f\"minimum number of the list is: {min(numbers)} and maximum is:{max(numbers)}\")"
   ]
  },
  {
   "cell_type": "markdown",
   "id": "1c945052",
   "metadata": {},
   "source": [
    "### Using for loop for determining maximum number of a list\n"
   ]
  },
  {
   "cell_type": "code",
   "execution_count": 41,
   "id": "c4d935c4",
   "metadata": {},
   "outputs": [
    {
     "name": "stdout",
     "output_type": "stream",
     "text": [
      "Enter a list of integers :36, 65, 85, 93, 57, 71, 88, 91, 78, 77, 69, 94, 41, 53\n",
      "maximum score of the class is: 94\n"
     ]
    }
   ],
   "source": [
    "scores = input(\"Enter a list of integers :\").split(\", \")\n",
    "for n in range(0, len(scores)):\n",
    "    scores[n] = int(scores[n])\n",
    "\n",
    "max=0 \n",
    "\n",
    "for score in scores:\n",
    "    \n",
    "    if score>max:\n",
    "        max = score\n",
    "        \n",
    "print(\"maximum score of the class is:\", max)"
   ]
  },
  {
   "cell_type": "markdown",
   "id": "242537c9",
   "metadata": {},
   "source": [
    "### For loops independent of a list : range() function to loop through"
   ]
  },
  {
   "cell_type": "markdown",
   "id": "35093b64",
   "metadata": {},
   "source": [
    "for number in range(a,b):<br>\n",
    "> Do This\n",
    "\n",
    "Where number is variable which will be compared with all the integers between a and b including a upto b, excluding b. Here, number will hold all the possible values in the range."
   ]
  },
  {
   "cell_type": "code",
   "execution_count": 43,
   "id": "331e9579",
   "metadata": {},
   "outputs": [
    {
     "name": "stdout",
     "output_type": "stream",
     "text": [
      "1\n",
      "2\n",
      "3\n",
      "4\n",
      "5\n",
      "6\n",
      "7\n"
     ]
    }
   ],
   "source": [
    "for x in range(1,8):\n",
    "    print(x)"
   ]
  },
  {
   "cell_type": "markdown",
   "id": "f2d51b92",
   "metadata": {},
   "source": [
    "Note: We can add a third parameter in the range() function to define step size as illustrated below."
   ]
  },
  {
   "cell_type": "code",
   "execution_count": 44,
   "id": "05c05717",
   "metadata": {},
   "outputs": [
    {
     "name": "stdout",
     "output_type": "stream",
     "text": [
      "1\n",
      "4\n",
      "7\n",
      "10\n",
      "13\n",
      "16\n",
      "19\n",
      "22\n"
     ]
    }
   ],
   "source": [
    "for integers in range (1, 25, 3):\n",
    "    print(integers)"
   ]
  },
  {
   "cell_type": "markdown",
   "id": "0c432c7d",
   "metadata": {},
   "source": [
    "### Summation using for loop"
   ]
  },
  {
   "cell_type": "code",
   "execution_count": 47,
   "id": "1e4faaab",
   "metadata": {},
   "outputs": [
    {
     "name": "stdout",
     "output_type": "stream",
     "text": [
      "Sum of first hundred natural numbers is: 5050\n"
     ]
    }
   ],
   "source": [
    "sum = 0\n",
    "for numbers in range(1, 101):\n",
    "    sum = sum + numbers\n",
    "print(\"Sum of first hundred natural numbers is:\", sum)"
   ]
  },
  {
   "cell_type": "markdown",
   "id": "1a0df07e",
   "metadata": {},
   "source": [
    "### Sum of n Natural numbers"
   ]
  },
  {
   "cell_type": "code",
   "execution_count": 57,
   "id": "2a716cb0",
   "metadata": {},
   "outputs": [
    {
     "name": "stdout",
     "output_type": "stream",
     "text": [
      "Enter the integer upto which you want to sum up the numbers starting from 1: 2547\n",
      "Sum of first 2547 natural numbers is: 3244878 \n"
     ]
    }
   ],
   "source": [
    "n = int(input(\"Enter the integer upto which you want to sum up the numbers starting from 1: \"))\n",
    "\n",
    "sum = 0\n",
    "for numbers in range (1, n+1):\n",
    "    sum = sum + numbers\n",
    "print(f\"Sum of first {n} natural numbers is: {sum} \")"
   ]
  },
  {
   "cell_type": "markdown",
   "id": "78272b77",
   "metadata": {},
   "source": [
    "Note : It took the computer 1 min 42 seconds to add first 100 crore natural numbers"
   ]
  },
  {
   "cell_type": "markdown",
   "id": "7f1037a3",
   "metadata": {},
   "source": [
    "### Exercise : Adding Even numbers "
   ]
  },
  {
   "cell_type": "code",
   "execution_count": 61,
   "id": "bff5f673",
   "metadata": {},
   "outputs": [
    {
     "name": "stdout",
     "output_type": "stream",
     "text": [
      "Sum of even numbers upto hundred is 2550\n"
     ]
    }
   ],
   "source": [
    "sum_even = 0\n",
    "for even_numbers in range(2, 101, 2):\n",
    "    sum_even = even_numbers + sum_even\n",
    "print(f\"Sum of even numbers upto hundred is {sum_even}\")"
   ]
  },
  {
   "cell_type": "markdown",
   "id": "14ac6fc9",
   "metadata": {},
   "source": [
    "### Exercise : Fizz Buzz<br> ( It is one of the most popular Job interview question )"
   ]
  },
  {
   "cell_type": "markdown",
   "id": "ba5d2380",
   "metadata": {},
   "source": [
    "You are going to write a program that automatically prints the solution to the FizzBuzz game.<br>\n",
    "Your program should print each number from 1 to 100 in turn.<br>\n",
    "When the number is divisible by 3 then instead of printing the number it should print \"Fizz\".<br>\n",
    "When the number is divisible by 5, then instead of printing the number it should print \"Buzz\".<br>\n",
    "And if the number is divisible by both 3 and 5 e.g. 15 then instead of the number it should print \"FizzBuzz\"<br>"
   ]
  },
  {
   "cell_type": "markdown",
   "id": "5ff8f8da",
   "metadata": {},
   "source": [
    "#### Logic 1:"
   ]
  },
  {
   "cell_type": "code",
   "execution_count": 69,
   "id": "d8bd7ca4",
   "metadata": {},
   "outputs": [
    {
     "name": "stdout",
     "output_type": "stream",
     "text": [
      "1\n",
      "2\n",
      "Fizz\n",
      "4\n",
      "Buzz\n",
      "Fizz\n",
      "7\n",
      "8\n",
      "Fizz\n",
      "Buzz\n",
      "11\n",
      "Fizz\n",
      "13\n",
      "14\n",
      "FizzBuzz\n",
      "16\n",
      "17\n",
      "Fizz\n",
      "19\n",
      "Buzz\n",
      "Fizz\n",
      "22\n",
      "23\n",
      "Fizz\n",
      "Buzz\n",
      "26\n",
      "Fizz\n",
      "28\n",
      "29\n",
      "FizzBuzz\n",
      "31\n",
      "32\n",
      "Fizz\n",
      "34\n",
      "Buzz\n",
      "Fizz\n",
      "37\n",
      "38\n",
      "Fizz\n",
      "Buzz\n",
      "41\n",
      "Fizz\n",
      "43\n",
      "44\n",
      "FizzBuzz\n",
      "46\n",
      "47\n",
      "Fizz\n",
      "49\n",
      "Buzz\n",
      "Fizz\n",
      "52\n",
      "53\n",
      "Fizz\n",
      "Buzz\n",
      "56\n",
      "Fizz\n",
      "58\n",
      "59\n",
      "FizzBuzz\n",
      "61\n",
      "62\n",
      "Fizz\n",
      "64\n",
      "Buzz\n",
      "Fizz\n",
      "67\n",
      "68\n",
      "Fizz\n",
      "Buzz\n",
      "71\n",
      "Fizz\n",
      "73\n",
      "74\n",
      "FizzBuzz\n",
      "76\n",
      "77\n",
      "Fizz\n",
      "79\n",
      "Buzz\n",
      "Fizz\n",
      "82\n",
      "83\n",
      "Fizz\n",
      "Buzz\n",
      "86\n",
      "Fizz\n",
      "88\n",
      "89\n",
      "FizzBuzz\n",
      "91\n",
      "92\n",
      "Fizz\n",
      "94\n",
      "Buzz\n",
      "Fizz\n",
      "97\n",
      "98\n",
      "Fizz\n",
      "Buzz\n"
     ]
    }
   ],
   "source": [
    "for number in range (1, 101):\n",
    "    if number%3 == 0 and number%5 != 0:\n",
    "        print(\"Fizz\")\n",
    "    elif number%5 == 0 and number%3 !=0:\n",
    "        print(\"Buzz\")\n",
    "    elif number%3 == 0 and number%5 == 0:\n",
    "        print(\"FizzBuzz\")\n",
    "    else : \n",
    "        print(number)"
   ]
  },
  {
   "cell_type": "markdown",
   "id": "ddbb403b",
   "metadata": {},
   "source": [
    "#### Logic 2: "
   ]
  },
  {
   "cell_type": "code",
   "execution_count": 71,
   "id": "b1b10bf1",
   "metadata": {},
   "outputs": [
    {
     "name": "stdout",
     "output_type": "stream",
     "text": [
      "1\n",
      "2\n",
      "Fizz\n",
      "4\n",
      "Buzz\n",
      "Fizz\n",
      "7\n",
      "8\n",
      "Fizz\n",
      "Buzz\n",
      "11\n",
      "Fizz\n",
      "13\n",
      "14\n",
      "FizzBuzz\n",
      "16\n",
      "17\n",
      "Fizz\n",
      "19\n",
      "Buzz\n",
      "Fizz\n",
      "22\n",
      "23\n",
      "Fizz\n",
      "Buzz\n",
      "26\n",
      "Fizz\n",
      "28\n",
      "29\n",
      "FizzBuzz\n",
      "31\n",
      "32\n",
      "Fizz\n",
      "34\n",
      "Buzz\n",
      "Fizz\n",
      "37\n",
      "38\n",
      "Fizz\n",
      "Buzz\n",
      "41\n",
      "Fizz\n",
      "43\n",
      "44\n",
      "FizzBuzz\n",
      "46\n",
      "47\n",
      "Fizz\n",
      "49\n",
      "Buzz\n",
      "Fizz\n",
      "52\n",
      "53\n",
      "Fizz\n",
      "Buzz\n",
      "56\n",
      "Fizz\n",
      "58\n",
      "59\n",
      "FizzBuzz\n",
      "61\n",
      "62\n",
      "Fizz\n",
      "64\n",
      "Buzz\n",
      "Fizz\n",
      "67\n",
      "68\n",
      "Fizz\n",
      "Buzz\n",
      "71\n",
      "Fizz\n",
      "73\n",
      "74\n",
      "FizzBuzz\n",
      "76\n",
      "77\n",
      "Fizz\n",
      "79\n",
      "Buzz\n",
      "Fizz\n",
      "82\n",
      "83\n",
      "Fizz\n",
      "Buzz\n",
      "86\n",
      "Fizz\n",
      "88\n",
      "89\n",
      "FizzBuzz\n",
      "91\n",
      "92\n",
      "Fizz\n",
      "94\n",
      "Buzz\n",
      "Fizz\n",
      "97\n",
      "98\n",
      "Fizz\n",
      "Buzz\n"
     ]
    }
   ],
   "source": [
    "for number in range (1, 101):\n",
    "    if number%3 == 0 and number%5 == 0:\n",
    "        print(\"FizzBuzz\")\n",
    "    elif number%3 == 0:\n",
    "        print(\"Fizz\")\n",
    "    elif number%5 == 0:\n",
    "        print(\"Buzz\")\n",
    "    else : \n",
    "        print(number)"
   ]
  },
  {
   "cell_type": "markdown",
   "id": "2619b0c8",
   "metadata": {},
   "source": [
    "### Exercise : Creating a Password Generator"
   ]
  },
  {
   "cell_type": "markdown",
   "id": "d34b7e78",
   "metadata": {},
   "source": [
    "#### Normal Password :"
   ]
  },
  {
   "cell_type": "code",
   "execution_count": 58,
   "id": "348a43e7",
   "metadata": {},
   "outputs": [
    {
     "name": "stdout",
     "output_type": "stream",
     "text": [
      "Welcome to the PyPassword Generator!\n",
      "How many letters would you like in your password?\n",
      "5\n",
      "How many symbols would you like?\n",
      "3\n",
      "How many numbers would you like?\n",
      "1\n",
      "Your password is:  WdPSG*##5\n"
     ]
    }
   ],
   "source": [
    "#Password Generator Project\n",
    "import random\n",
    "letters = ['a', 'b', 'c', 'd', 'e', 'f', 'g', 'h', 'i', 'j', 'k', 'l', 'm', 'n', 'o', 'p', 'q', 'r', 's', 't', 'u', 'v', 'w', 'x', 'y', 'z', 'A', 'B', 'C', 'D', 'E', 'F', 'G', 'H', 'I', 'J', 'K', 'L', 'M', 'N', 'O', 'P', 'Q', 'R', 'S', 'T', 'U', 'V', 'W', 'X', 'Y', 'Z']\n",
    "numbers = ['0', '1', '2', '3', '4', '5', '6', '7', '8', '9']\n",
    "symbols = ['!', '#', '$', '%', '&', '(', ')', '*', '+']\n",
    "\n",
    "print(\"Welcome to the PyPassword Generator!\")\n",
    "nr_letters= int(input(\"How many letters would you like in your password?\\n\")) \n",
    "nr_symbols = int(input(f\"How many symbols would you like?\\n\"))\n",
    "nr_numbers = int(input(f\"How many numbers would you like?\\n\"))\n",
    "\n",
    "#Eazy Level - Order not randomised:\n",
    "#e.g. 4 letter, 2 symbol, 2 number = JduE&!91\n",
    "\n",
    "\n",
    "#Hard Level - Order of characters randomised:\n",
    "#e.g. 4 letter, 2 symbol, 2 number = g^2jk8&P\n",
    "\n",
    "password =\"\"\n",
    "for char in range(1, nr_letters + 1):\n",
    "    random_char = random.choice(letters)\n",
    "    password = password + random_char\n",
    "\n",
    "for symbol in range(1, nr_symbols + 1): \n",
    "    random_symbol = random.choice(symbols)\n",
    "    password = password + random_symbol\n",
    "\n",
    "for number in range(1, nr_numbers + 1):\n",
    "    random_number = random.choice(numbers)\n",
    "    password = password + random_number\n",
    "    \n",
    "print(\"Your password is: \",password)"
   ]
  },
  {
   "cell_type": "markdown",
   "id": "4d13502e",
   "metadata": {},
   "source": [
    "#### Hard Password"
   ]
  },
  {
   "cell_type": "code",
   "execution_count": 132,
   "id": "b9aea651",
   "metadata": {},
   "outputs": [
    {
     "name": "stdout",
     "output_type": "stream",
     "text": [
      "Welcome to the our Password Generator!\n",
      "How many letters would you like in your password?\n",
      "11\n",
      "How many symbols would you like?\n",
      "5\n",
      "How many numbers would you like?\n",
      "3\n",
      "['j', 'Q', 'E', 'U', 'K', 'j', 'S', 't', 'c', 'W', 'X', '!', '*', '(', '*', '%', '3', '5', '6']\n",
      "Your password consists of following characters:  ['Q', 't', 'c', 'K', 'E', 'X', 'W', 'S', '6', '3', '(', 'j', '%', 'j', '*', '!', 'U', '5', '*']\n",
      "Final Password: QtcKEXWS63(j%j*!U5*\n"
     ]
    }
   ],
   "source": [
    "import random\n",
    "\n",
    "letters = ['a', 'b', 'c', 'd', 'e', 'f', 'g', 'h', 'i', 'j', 'k', 'l', 'm', 'n', 'o', 'p', 'q', 'r', 's', 't', 'u', 'v', 'w', 'x', 'y', 'z', 'A', 'B', 'C', 'D', 'E', 'F', 'G', 'H', 'I', 'J', 'K', 'L', 'M', 'N', 'O', 'P', 'Q', 'R', 'S', 'T', 'U', 'V', 'W', 'X', 'Y', 'Z']\n",
    "numbers = ['0', '1', '2', '3', '4', '5', '6', '7', '8', '9']\n",
    "symbols = ['!', '#', '$', '%', '&', '(', ')', '*', '+']\n",
    "\n",
    "print(\"Welcome to the our Password Generator!\")\n",
    "nr_letters= int(input(\"How many letters would you like in your password?\\n\")) \n",
    "nr_symbols = int(input(f\"How many symbols would you like?\\n\"))\n",
    "nr_numbers = int(input(f\"How many numbers would you like?\\n\"))\n",
    "\n",
    "password_list = []\n",
    "\n",
    "for char in range(1, nr_letters + 1):\n",
    "    random_char = random.choice(letters)\n",
    "    password_list.append(random_char)\n",
    "\n",
    "for symbol in range(1, nr_symbols + 1): \n",
    "    random_symbol = random.choice(symbols)\n",
    "    password_list.append(random_symbol)\n",
    "    \n",
    "for number in range(1, nr_numbers + 1):\n",
    "    random_number = random.choice(numbers)\n",
    "    password_list.append(random_number)\n",
    "print(password_list)\n",
    "random.shuffle(password_list)\n",
    "print(\"Your password consists of following characters: \",password_list)\n",
    "\n",
    "\n",
    "final_password =\"\"\n",
    "for characters in password_list:\n",
    "    final_password = final_password + characters\n",
    "print(\"Final Password:\",final_password)"
   ]
  },
  {
   "cell_type": "markdown",
   "id": "2650faa1",
   "metadata": {},
   "source": [
    "# Day 6 : Python Functions & While Loop (03/01/2023)"
   ]
  },
  {
   "cell_type": "markdown",
   "id": "4901857b",
   "metadata": {},
   "source": [
    "Functions give us a way of referring to multiple instructions at the same time.\n",
    "\n",
    "def function_name():<br>\n",
    "> Do Task_A<br>\n",
    "> Do Task_B"
   ]
  },
  {
   "cell_type": "code",
   "execution_count": 128,
   "id": "57877839",
   "metadata": {},
   "outputs": [
    {
     "name": "stdout",
     "output_type": "stream",
     "text": [
      "Fear of the dark\n",
      "Fear of the dark\n",
      "I have a constant fear that something's always there\n"
     ]
    }
   ],
   "source": [
    "def my_function():\n",
    "    print(\"Fear of the dark\")\n",
    "    print(\"Fear of the dark\")\n",
    "    print(\"I have a constant fear that something's always there\")\n",
    "my_function()"
   ]
  },
  {
   "cell_type": "markdown",
   "id": "88f08034",
   "metadata": {},
   "source": [
    "### While Loops:\n",
    "In a while loop, a certain task is carried out while a particular condition is true."
   ]
  },
  {
   "cell_type": "markdown",
   "id": "bf293e12",
   "metadata": {},
   "source": [
    "While condition :<br>\n",
    ">Do this"
   ]
  },
  {
   "cell_type": "markdown",
   "id": "b8b421c1",
   "metadata": {},
   "source": [
    "### Reeborg hurdle using while() loop:"
   ]
  },
  {
   "cell_type": "markdown",
   "id": "40a388d5",
   "metadata": {},
   "source": [
    "def one_hurdle():<br>\n",
    "    \n",
    ">    move()<br>\n",
    ">    turn_left()<br>\n",
    ">    move()<br>\n",
    ">    turn_right()<br>\n",
    ">    move()<br>\n",
    ">    turn_right()<br>\n",
    ">    move()<br>\n",
    ">    turn_left()<br>\n",
    "\n",
    "def turn_right():<br>\n",
    ">    turn_left()<br>\n",
    ">    turn_left()<br>\n",
    ">    turn_left()<br>\n",
    "\n",
    "x=0  <br>\n",
    "while x<6 :<br>\n",
    ">    one_hurdle()<br>\n",
    "     x = x+1<br>\n"
   ]
  },
  {
   "cell_type": "markdown",
   "id": "9d83aad9",
   "metadata": {},
   "source": [
    "### Hurdle 2 :"
   ]
  },
  {
   "cell_type": "markdown",
   "id": "c59027b0",
   "metadata": {},
   "source": [
    "#### Method 1:"
   ]
  },
  {
   "cell_type": "code",
   "execution_count": 1,
   "id": "176d98d3",
   "metadata": {},
   "outputs": [],
   "source": [
    "# def one_hurdle():\n",
    "    \n",
    "#     move()\n",
    "#     turn_left()\n",
    "#     move()\n",
    "#     turn_right()\n",
    "#     move()\n",
    "#     turn_right()\n",
    "#     move()\n",
    "#     turn_left()\n",
    "# def turn_right():\n",
    "#     turn_left()\n",
    "#     turn_left()\n",
    "#     turn_left()\n",
    "# x=0  \n",
    "# while x<6 :\n",
    "#     one_hurdle()\n",
    "#     x = x+1\n",
    "#     if at_goal() == True:\n",
    "#         break"
   ]
  },
  {
   "cell_type": "markdown",
   "id": "1bcfe233",
   "metadata": {},
   "source": [
    "#### Method 2:"
   ]
  },
  {
   "cell_type": "code",
   "execution_count": 2,
   "id": "aaec67ea",
   "metadata": {},
   "outputs": [],
   "source": [
    "# def one_hurdle():\n",
    "    \n",
    "#     move()\n",
    "#     turn_left()\n",
    "#     move()\n",
    "#     turn_right()\n",
    "#     move()\n",
    "#     turn_right()\n",
    "#     move()\n",
    "#     turn_left()\n",
    "# def turn_right():\n",
    "#     turn_left()\n",
    "#     turn_left()\n",
    "#     turn_left()\n",
    "# while not at_goal():\n",
    "#     one_hurdle()"
   ]
  },
  {
   "cell_type": "markdown",
   "id": "c21649c2",
   "metadata": {},
   "source": [
    "Note: while not at_goal() is same as while at_goal() != True"
   ]
  },
  {
   "cell_type": "markdown",
   "id": "22ba8762",
   "metadata": {},
   "source": [
    "For loops are good when we need to iterate over each thing, like printing each number etc. While loop <br> are used when we dont have to iterate through each items."
   ]
  },
  {
   "cell_type": "markdown",
   "id": "6a6f2bcb",
   "metadata": {},
   "source": [
    "#### Hurdle 3\n"
   ]
  },
  {
   "cell_type": "code",
   "execution_count": null,
   "id": "9322564f",
   "metadata": {},
   "outputs": [],
   "source": [
    "# def turn_right():\n",
    "#     turn_left()\n",
    "#     turn_left()\n",
    "#     turn_left()\n",
    "\n",
    "# while not at_goal():\n",
    "#     if wall_in_front() == True:\n",
    "#         turn_left()\n",
    "#         move()\n",
    "#         turn_right()\n",
    "#         move()\n",
    "#         turn_right()\n",
    "#         move()\n",
    "#         turn_left()\n",
    "        \n",
    "#     elif front_is_clear() == True:\n",
    "#         move()\n",
    "        \n",
    "#     elif at_goal() == True:\n",
    "#         break\n",
    "       "
   ]
  },
  {
   "cell_type": "markdown",
   "id": "886c9667",
   "metadata": {},
   "source": [
    "#### Hurdle 4:\n"
   ]
  },
  {
   "cell_type": "code",
   "execution_count": null,
   "id": "73cb9f3d",
   "metadata": {},
   "outputs": [],
   "source": [
    "# def turn_right():\n",
    "#     turn_left()\n",
    "#     turn_left()\n",
    "#     turn_left()\n",
    "# \n",
    "# def jump():\n",
    "#     turn_left()\n",
    "#     while wall_on_right() == True :\n",
    "#         move()\n",
    "#     turn_right()\n",
    "#     move()\n",
    "#     turn_right()\n",
    "#     while front_is_clear():\n",
    "#         move()\n",
    "#     turn_left()\n",
    "        \n",
    "# while not at_goal():\n",
    "#     if wall_in_front():\n",
    "#         jump()\n",
    "#     else:\n",
    "#         move()\n",
    "# Basic commands\n",
    "# Defining\n",
    "# Loops\n",
    "# Decisions\n",
    "# Conditions\n",
    "# Using variables"
   ]
  },
  {
   "cell_type": "markdown",
   "id": "131891a5",
   "metadata": {},
   "source": [
    "#### Maze"
   ]
  },
  {
   "cell_type": "code",
   "execution_count": null,
   "id": "49cca33a",
   "metadata": {},
   "outputs": [],
   "source": []
  },
  {
   "cell_type": "markdown",
   "id": "dd254a80",
   "metadata": {},
   "source": [
    "# Day 7 : Hangman"
   ]
  },
  {
   "cell_type": "code",
   "execution_count": 140,
   "id": "37bad805",
   "metadata": {},
   "outputs": [
    {
     "name": "stdout",
     "output_type": "stream",
     "text": [
      "Guess a letter :a\n",
      "Wrong\n",
      "Wrong\n",
      "Right\n",
      "Wrong\n",
      "Wrong\n",
      "Wrong\n",
      "Wrong\n",
      "Wrong\n",
      "Wrong\n",
      "Wrong\n",
      "Wrong\n",
      "['_', '_', 'a', '_', '_', '_', '_', '_', '_', '_', '_']\n",
      "Enter the letter again:h\n",
      "['h', '_', 'a', '_', '_', '_', '_', '_', '_', '_', '_']\n",
      "Enter the letter again:e\n",
      "['h', 'e', 'a', '_', '_', '_', '_', '_', '_', '_', '_']\n",
      "Enter the letter again:v\n",
      "['h', 'e', 'a', '_', '_', '_', '_', '_', '_', '_', '_']\n",
      "Enter the letter again:y\n",
      "['h', 'e', 'a', '_', '_', '_', '_', '_', '_', '_', '_']\n",
      "Enter the letter again:w\n",
      "['h', 'e', 'a', '_', '_', '_', '_', '_', '_', '_', '_']\n",
      "Enter the letter again:i\n",
      "['h', 'e', 'a', '_', '_', '_', '_', '_', '_', '_', '_']\n",
      "Enter the letter again:e\n",
      "['h', 'e', 'a', '_', '_', '_', 'e', '_', '_', '_', '_']\n",
      "Enter the letter again:g\n",
      "['h', 'e', 'a', '_', '_', '_', 'e', '_', '_', '_', '_']\n",
      "Enter the letter again:g\n",
      "['h', 'e', 'a', '_', '_', '_', 'e', '_', 'g', '_', '_']\n",
      "Enter the letter again:h\n",
      "['h', 'e', 'a', '_', '_', '_', 'e', '_', 'g', 'h', '_']\n",
      "Enter the letter again:t\n",
      "['h', 'e', 'a', '_', '_', '_', 'e', '_', 'g', 'h', 't']\n",
      "Enter the letter again:v\n",
      "['h', 'e', 'a', '_', '_', '_', 'e', '_', 'g', 'h', 't']\n",
      "Enter the letter again:v\n",
      "['h', 'e', 'a', '_', '_', '_', 'e', '_', 'g', 'h', 't']\n",
      "Enter the letter again:y\n",
      "['h', 'e', 'a', '_', '_', '_', 'e', '_', 'g', 'h', 't']\n",
      "Enter the letter again:y\n",
      "['h', 'e', 'a', '_', '_', '_', 'e', '_', 'g', 'h', 't']\n",
      "Enter the letter again:y\n",
      "['h', 'e', 'a', '_', 'y', '_', 'e', '_', 'g', 'h', 't']\n",
      "Enter the letter again:v\n",
      "['h', 'e', 'a', '_', 'y', '_', 'e', '_', 'g', 'h', 't']\n",
      "Enter the letter again:v\n",
      "['h', 'e', 'a', '_', 'y', '_', 'e', '_', 'g', 'h', 't']\n",
      "Enter the letter again:w\n",
      "['h', 'e', 'a', '_', 'y', '_', 'e', '_', 'g', 'h', 't']\n",
      "Enter the letter again:w\n",
      "['h', 'e', 'a', '_', 'y', '_', 'e', '_', 'g', 'h', 't']\n",
      "Enter the letter again:v\n",
      "['h', 'e', 'a', '_', 'y', '_', 'e', '_', 'g', 'h', 't']\n",
      "Enter the letter again:w\n",
      "['h', 'e', 'a', '_', 'y', '_', 'e', '_', 'g', 'h', 't']\n",
      "Enter the letter again:v\n",
      "['h', 'e', 'a', '_', 'y', '_', 'e', '_', 'g', 'h', 't']\n",
      "Enter the letter again:w\n",
      "['h', 'e', 'a', '_', 'y', '_', 'e', '_', 'g', 'h', 't']\n",
      "Enter the letter again:v\n",
      "['h', 'e', 'a', '_', 'y', '_', 'e', '_', 'g', 'h', 't']\n",
      "Enter the letter again:w\n",
      "['h', 'e', 'a', '_', 'y', '_', 'e', '_', 'g', 'h', 't']\n",
      "Enter the letter again:i\n",
      "['h', 'e', 'a', '_', 'y', '_', 'e', '_', 'g', 'h', 't']\n",
      "Enter the letter again:i\n",
      "['h', 'e', 'a', '_', 'y', '_', 'e', '_', 'g', 'h', 't']\n",
      "Enter the letter again:i\n",
      "['h', 'e', 'a', '_', 'y', '_', 'e', '_', 'g', 'h', 't']\n",
      "Enter the letter again:i\n",
      "['h', 'e', 'a', '_', 'y', '_', 'e', 'i', 'g', 'h', 't']\n",
      "Enter the letter again:v\n",
      "['h', 'e', 'a', '_', 'y', '_', 'e', 'i', 'g', 'h', 't']\n",
      "Enter the letter again:w\n",
      "['h', 'e', 'a', '_', 'y', '_', 'e', 'i', 'g', 'h', 't']\n",
      "Enter the letter again:v\n",
      "['h', 'e', 'a', '_', 'y', '_', 'e', 'i', 'g', 'h', 't']\n",
      "Enter the letter again:w\n",
      "['h', 'e', 'a', '_', 'y', '_', 'e', 'i', 'g', 'h', 't']\n",
      "Enter the letter again:v\n",
      "['h', 'e', 'a', '_', 'y', '_', 'e', 'i', 'g', 'h', 't']\n",
      "Enter the letter again:w\n",
      "['h', 'e', 'a', '_', 'y', '_', 'e', 'i', 'g', 'h', 't']\n",
      "Enter the letter again:v\n",
      "['h', 'e', 'a', 'v', 'y', '_', 'e', 'i', 'g', 'h', 't']\n",
      "Enter the letter again:w\n",
      "['h', 'e', 'a', 'v', 'y', '_', 'e', 'i', 'g', 'h', 't']\n",
      "Enter the letter again:w\n",
      "['h', 'e', 'a', 'v', 'y', 'w', 'e', 'i', 'g', 'h', 't']\n",
      "Enter the letter again:a\n",
      "['h', 'e', 'a', 'v', 'y', 'w', 'e', 'i', 'g', 'h', 't']\n",
      "Enter the letter again:i\n",
      "['h', 'e', 'a', 'v', 'y', 'w', 'e', 'i', 'g', 'h', 't']\n"
     ]
    },
    {
     "ename": "KeyboardInterrupt",
     "evalue": "Interrupted by user",
     "output_type": "error",
     "traceback": [
      "\u001b[1;31m---------------------------------------------------------------------------\u001b[0m",
      "\u001b[1;31mKeyboardInterrupt\u001b[0m                         Traceback (most recent call last)",
      "\u001b[1;32m~\\AppData\\Local\\Temp\\ipykernel_9240\\2535239547.py\u001b[0m in \u001b[0;36m<module>\u001b[1;34m\u001b[0m\n\u001b[0;32m     23\u001b[0m \u001b[1;32mwhile\u001b[0m \u001b[0mend_of_game\u001b[0m \u001b[1;33m==\u001b[0m \u001b[1;32mFalse\u001b[0m\u001b[1;33m:\u001b[0m\u001b[1;33m\u001b[0m\u001b[1;33m\u001b[0m\u001b[0m\n\u001b[0;32m     24\u001b[0m     \u001b[1;32mfor\u001b[0m \u001b[0mn\u001b[0m \u001b[1;32min\u001b[0m \u001b[0mrange\u001b[0m\u001b[1;33m(\u001b[0m\u001b[1;36m0\u001b[0m\u001b[1;33m,\u001b[0m \u001b[0mlen\u001b[0m\u001b[1;33m(\u001b[0m\u001b[0mrandom_word\u001b[0m\u001b[1;33m)\u001b[0m\u001b[1;33m)\u001b[0m\u001b[1;33m:\u001b[0m\u001b[1;33m\u001b[0m\u001b[1;33m\u001b[0m\u001b[0m\n\u001b[1;32m---> 25\u001b[1;33m         \u001b[0mletter_guess_again\u001b[0m \u001b[1;33m=\u001b[0m \u001b[0minput\u001b[0m\u001b[1;33m(\u001b[0m\u001b[1;34m\"Enter the letter again:\"\u001b[0m\u001b[1;33m)\u001b[0m\u001b[1;33m.\u001b[0m\u001b[0mlower\u001b[0m\u001b[1;33m(\u001b[0m\u001b[1;33m)\u001b[0m\u001b[1;33m\u001b[0m\u001b[1;33m\u001b[0m\u001b[0m\n\u001b[0m\u001b[0;32m     26\u001b[0m         \u001b[1;32mif\u001b[0m \u001b[0mrandom_word\u001b[0m\u001b[1;33m[\u001b[0m\u001b[0mn\u001b[0m\u001b[1;33m]\u001b[0m \u001b[1;33m==\u001b[0m \u001b[0mletter_guess_again\u001b[0m\u001b[1;33m:\u001b[0m\u001b[1;33m\u001b[0m\u001b[1;33m\u001b[0m\u001b[0m\n\u001b[0;32m     27\u001b[0m             \u001b[0mlist_of_blanks\u001b[0m\u001b[1;33m[\u001b[0m\u001b[0mn\u001b[0m\u001b[1;33m]\u001b[0m \u001b[1;33m=\u001b[0m \u001b[0mletter_guess_again\u001b[0m\u001b[1;33m\u001b[0m\u001b[1;33m\u001b[0m\u001b[0m\n",
      "\u001b[1;32mC:\\ProgramData\\Anaconda3\\lib\\site-packages\\ipykernel\\kernelbase.py\u001b[0m in \u001b[0;36mraw_input\u001b[1;34m(self, prompt)\u001b[0m\n\u001b[0;32m   1175\u001b[0m                 \u001b[1;34m\"raw_input was called, but this frontend does not support input requests.\"\u001b[0m\u001b[1;33m\u001b[0m\u001b[1;33m\u001b[0m\u001b[0m\n\u001b[0;32m   1176\u001b[0m             )\n\u001b[1;32m-> 1177\u001b[1;33m         return self._input_request(\n\u001b[0m\u001b[0;32m   1178\u001b[0m             \u001b[0mstr\u001b[0m\u001b[1;33m(\u001b[0m\u001b[0mprompt\u001b[0m\u001b[1;33m)\u001b[0m\u001b[1;33m,\u001b[0m\u001b[1;33m\u001b[0m\u001b[1;33m\u001b[0m\u001b[0m\n\u001b[0;32m   1179\u001b[0m             \u001b[0mself\u001b[0m\u001b[1;33m.\u001b[0m\u001b[0m_parent_ident\u001b[0m\u001b[1;33m[\u001b[0m\u001b[1;34m\"shell\"\u001b[0m\u001b[1;33m]\u001b[0m\u001b[1;33m,\u001b[0m\u001b[1;33m\u001b[0m\u001b[1;33m\u001b[0m\u001b[0m\n",
      "\u001b[1;32mC:\\ProgramData\\Anaconda3\\lib\\site-packages\\ipykernel\\kernelbase.py\u001b[0m in \u001b[0;36m_input_request\u001b[1;34m(self, prompt, ident, parent, password)\u001b[0m\n\u001b[0;32m   1217\u001b[0m             \u001b[1;32mexcept\u001b[0m \u001b[0mKeyboardInterrupt\u001b[0m\u001b[1;33m:\u001b[0m\u001b[1;33m\u001b[0m\u001b[1;33m\u001b[0m\u001b[0m\n\u001b[0;32m   1218\u001b[0m                 \u001b[1;31m# re-raise KeyboardInterrupt, to truncate traceback\u001b[0m\u001b[1;33m\u001b[0m\u001b[1;33m\u001b[0m\u001b[0m\n\u001b[1;32m-> 1219\u001b[1;33m                 \u001b[1;32mraise\u001b[0m \u001b[0mKeyboardInterrupt\u001b[0m\u001b[1;33m(\u001b[0m\u001b[1;34m\"Interrupted by user\"\u001b[0m\u001b[1;33m)\u001b[0m \u001b[1;32mfrom\u001b[0m \u001b[1;32mNone\u001b[0m\u001b[1;33m\u001b[0m\u001b[1;33m\u001b[0m\u001b[0m\n\u001b[0m\u001b[0;32m   1220\u001b[0m             \u001b[1;32mexcept\u001b[0m \u001b[0mException\u001b[0m\u001b[1;33m:\u001b[0m\u001b[1;33m\u001b[0m\u001b[1;33m\u001b[0m\u001b[0m\n\u001b[0;32m   1221\u001b[0m                 \u001b[0mself\u001b[0m\u001b[1;33m.\u001b[0m\u001b[0mlog\u001b[0m\u001b[1;33m.\u001b[0m\u001b[0mwarning\u001b[0m\u001b[1;33m(\u001b[0m\u001b[1;34m\"Invalid Message:\"\u001b[0m\u001b[1;33m,\u001b[0m \u001b[0mexc_info\u001b[0m\u001b[1;33m=\u001b[0m\u001b[1;32mTrue\u001b[0m\u001b[1;33m)\u001b[0m\u001b[1;33m\u001b[0m\u001b[1;33m\u001b[0m\u001b[0m\n",
      "\u001b[1;31mKeyboardInterrupt\u001b[0m: Interrupted by user"
     ]
    }
   ],
   "source": [
    "import random\n",
    "\n",
    "list_of_words = [\"happy\", \"hyperplane\", \"window\", \"disclaimer\", \"heavyweight\",\"Kettle\", \"clock\"]\n",
    "random_word = random.choice(list_of_words)\n",
    "letter_guess = (input(\"Guess a letter :\")).lower()\n",
    "for letter in random_word:\n",
    "    if letter == letter_guess:\n",
    "        print(\"Right\")\n",
    "    else:\n",
    "        print(\"Wrong\")\n",
    "        \n",
    "list_of_blanks = []\n",
    "for n in random_word:\n",
    "    list_of_blanks.append(\"_\")\n",
    "# print(list_of_blanks)\n",
    "\n",
    "for n in range(0,len(random_word)):\n",
    "    if random_word[n] == letter_guess:\n",
    "        list_of_blanks[n] = letter_guess\n",
    "print(list_of_blanks)    \n",
    "\n",
    "end_of_game = False \n",
    "while end_of_game == False:\n",
    "    for n in range(0, len(random_word)):\n",
    "        letter_guess_again = input(\"Enter the letter again:\").lower()\n",
    "        if random_word[n] == letter_guess_again:\n",
    "            list_of_blanks[n] = letter_guess_again\n",
    "        print(list_of_blanks)\n",
    "\n",
    "    if \"_\" not in list_of_blanks:\n",
    "        end_of_game == True\n",
    "        print(\"You Win\")"
   ]
  },
  {
   "cell_type": "markdown",
   "id": "de9bd2b0",
   "metadata": {},
   "source": [
    "# Day 8 : Function parameters:"
   ]
  },
  {
   "cell_type": "code",
   "execution_count": 141,
   "id": "74be1108",
   "metadata": {},
   "outputs": [
    {
     "name": "stdout",
     "output_type": "stream",
     "text": [
      "Hey, What's up?\n",
      "What are you doing here?\n",
      "Nevermind!\n"
     ]
    }
   ],
   "source": [
    "def greet():\n",
    "    print(\"Hey, What's up?\")\n",
    "    print(\"What are you doing here?\")\n",
    "    print(\"Nevermind!\")\n",
    "greet()"
   ]
  },
  {
   "cell_type": "markdown",
   "id": "ed2b7524",
   "metadata": {},
   "source": [
    "#### Functions with arguments"
   ]
  },
  {
   "cell_type": "code",
   "execution_count": 146,
   "id": "27a0dbf9",
   "metadata": {},
   "outputs": [
    {
     "name": "stdout",
     "output_type": "stream",
     "text": [
      "Hello Kumar!\n",
      "How are you Kumar?\n"
     ]
    }
   ],
   "source": [
    "def greet_with_name(name):\n",
    "    print(f\"Hello {name}!\")\n",
    "    print(f\"How are you {name}?\")\n",
    "greet_with_name(\"Kumar\")"
   ]
  },
  {
   "cell_type": "markdown",
   "id": "e98c2b10",
   "metadata": {},
   "source": [
    "#### Functions with multiple arguments"
   ]
  },
  {
   "cell_type": "code",
   "execution_count": 149,
   "id": "86542dfd",
   "metadata": {},
   "outputs": [
    {
     "name": "stdout",
     "output_type": "stream",
     "text": [
      "Hello Kumar!\n",
      "Welcome to Dharwad!\n"
     ]
    }
   ],
   "source": [
    "def greet_with_name_and_location(name, location):\n",
    "    print(f\"Hello {name}!\")\n",
    "    print(f\"Welcome to {location}!\")\n",
    "greet_with_name_and_location(\"Kumar\",\"Dharwad\")"
   ]
  },
  {
   "cell_type": "code",
   "execution_count": 150,
   "id": "15309a23",
   "metadata": {},
   "outputs": [
    {
     "name": "stdout",
     "output_type": "stream",
     "text": [
      "Hello Dharwad!\n",
      "Welcome to Kumar!\n"
     ]
    }
   ],
   "source": [
    "greet_with_name_and_location(\"Dharwad\",\"Kumar\")"
   ]
  },
  {
   "cell_type": "code",
   "execution_count": 151,
   "id": "38c6191d",
   "metadata": {},
   "outputs": [
    {
     "name": "stdout",
     "output_type": "stream",
     "text": [
      "Hello Kumar!\n",
      "Welcome to Dharwad!\n"
     ]
    }
   ],
   "source": [
    "greet_with_name_and_location(location = \"Dharwad\",name = \"Kumar\")"
   ]
  },
  {
   "cell_type": "code",
   "execution_count": 152,
   "id": "443e0fb3",
   "metadata": {},
   "outputs": [
    {
     "name": "stdout",
     "output_type": "stream",
     "text": [
      "Hello Kumar!\n",
      "Welcome to Dharwad!\n"
     ]
    }
   ],
   "source": [
    "greet_with_name_and_location(name = \"Kumar\", location = \"Dharwad\")"
   ]
  },
  {
   "cell_type": "markdown",
   "id": "49df828f",
   "metadata": {},
   "source": [
    "### Exercise : Function for Calculating the number of paint cans required to paint a wall"
   ]
  },
  {
   "cell_type": "code",
   "execution_count": 189,
   "id": "adb38bc3",
   "metadata": {},
   "outputs": [],
   "source": [
    "import math\n",
    "def number_of_cans(height, width):\n",
    "    area = h*w\n",
    "    cans = math.ceil(area/5)\n",
    "    print(f\"You'll need {cans} cans of paint\")     "
   ]
  },
  {
   "cell_type": "code",
   "execution_count": 192,
   "id": "cca078d1",
   "metadata": {},
   "outputs": [
    {
     "name": "stdout",
     "output_type": "stream",
     "text": [
      "Enter the wall height4\n",
      "Enter the wall width7\n",
      "You'll need 6 cans of paint\n"
     ]
    }
   ],
   "source": [
    "h = int(input(\"Enter the wall height\"))\n",
    "w = int(input(\"Enter the wall width\"))\n",
    "number_of_cans(height = h, width = w)"
   ]
  },
  {
   "cell_type": "markdown",
   "id": "e13a7fe5",
   "metadata": {},
   "source": [
    "### Exercise : Prime Number Checker:"
   ]
  },
  {
   "cell_type": "code",
   "execution_count": 63,
   "id": "54a9fd55",
   "metadata": {},
   "outputs": [
    {
     "name": "stdout",
     "output_type": "stream",
     "text": [
      "Enter the number: 13\n",
      "Prime\n"
     ]
    }
   ],
   "source": [
    "def prime_checker(number):\n",
    "    if number > 1 :\n",
    "        for i in range(2, number):\n",
    "            if number%i == 0:\n",
    "                print(\"Not Prime\")\n",
    "                break\n",
    "        else :\n",
    "            print(\"Prime\")\n",
    "    \n",
    "num = int(input(\"Enter the number: \"))\n",
    "prime_checker(number = num)"
   ]
  },
  {
   "cell_type": "markdown",
   "id": "2e4e4e2f",
   "metadata": {},
   "source": [
    "### Logic 2"
   ]
  },
  {
   "cell_type": "code",
   "execution_count": 72,
   "id": "fae7e6e3",
   "metadata": {},
   "outputs": [
    {
     "name": "stdout",
     "output_type": "stream",
     "text": [
      "Enter the number: 44\n",
      "44 is not a prime number\n"
     ]
    }
   ],
   "source": [
    "def prime_checker_logical(number):\n",
    "    is_prime = True\n",
    "    for i in range (2, number):\n",
    "        if number%i == 0:\n",
    "            is_prime = False\n",
    "    if is_prime:\n",
    "        print(f\"{number} is a prime number!\")\n",
    "    else:\n",
    "        print(f\"{number} is not a prime number\")\n",
    "        \n",
    "n = int(input(\"Enter the number: \"))\n",
    "prime_checker_logical(number = n)"
   ]
  },
  {
   "cell_type": "markdown",
   "id": "95aea8f4",
   "metadata": {},
   "source": [
    "### Exercise : Caesar's Cipher"
   ]
  },
  {
   "cell_type": "code",
   "execution_count": 95,
   "id": "77bdf571",
   "metadata": {},
   "outputs": [
    {
     "name": "stdout",
     "output_type": "stream",
     "text": [
      "Type your message:\n",
      "pragya\n",
      "Type the shift number:\n",
      "4\n",
      "The encoded text is tvekce\n"
     ]
    }
   ],
   "source": [
    "alphabets = ['a', 'b', 'c', 'd', 'e', 'f', 'g', 'h', 'i', 'j', 'k', 'l', 'm', 'n', 'o', 'p', 'q', 'r', 's', 't', 'u', 'v', 'w', 'x', 'y', 'z', 'a', 'b', 'c', 'd', 'e', 'f', 'g', 'h', 'i', 'j', 'k', 'l', 'm', 'n', 'o', 'p', 'q', 'r', 's', 't', 'u', 'v', 'w', 'x', 'y', 'z']\n",
    "\n",
    "d = input(\"Type 'encode' to encrypt, type 'decode' to decrypt:\\n\")\n",
    "t = input(\"Type your message:\\n\").lower()\n",
    "s = int(input(\"Type the shift number:\\n\"))\n",
    "\n",
    "def encrypt(text,shift):\n",
    "    encrypted_text = \"\"\n",
    "    for letter in text:\n",
    "        letter_index = alphabets.index(letter)\n",
    "        new_letter_index = letter_index + shift\n",
    "        new_letter = alphabets[new_letter_index]\n",
    "        encrypted_text = encrypted_text + new_letter\n",
    "    print(\"The encoded text is\", encrypted_text)\n",
    "        \n",
    "encrypt(text = t, shift = s)      \n",
    "\n"
   ]
  },
  {
   "cell_type": "code",
   "execution_count": 97,
   "id": "5d584e47",
   "metadata": {},
   "outputs": [
    {
     "name": "stdout",
     "output_type": "stream",
     "text": [
      "Type your message:\n",
      "tvekce\n",
      "Type the shift number:\n",
      "4\n",
      "The decoded text is pragya\n"
     ]
    }
   ],
   "source": [
    "t = input(\"Type your message:\\n\").lower()\n",
    "s = int(input(\"Type the shift number:\\n\"))\n",
    "\n",
    "def decrypt(text, shift):\n",
    "    decrypted_text = \"\"\n",
    "    for letter in text:\n",
    "        letter_index = alphabets.index(letter)\n",
    "        new_letter_index = letter_index - shift\n",
    "        new_letter = alphabets[new_letter_index]\n",
    "        decrypted_text = decrypted_text + new_letter\n",
    "    print(\"The decoded text is\", decrypted_text)\n",
    "\n",
    "decrypt(text = t, shift = s)"
   ]
  },
  {
   "cell_type": "markdown",
   "id": "0def1ee7",
   "metadata": {},
   "source": [
    "### Imporoved Code with multiple function definitions"
   ]
  },
  {
   "cell_type": "code",
   "execution_count": 130,
   "id": "5f24c066",
   "metadata": {},
   "outputs": [
    {
     "name": "stdout",
     "output_type": "stream",
     "text": [
      "Type 'encode' to encrypt, type 'decode' to decrypt:\n",
      "encode\n",
      "Type your message:\n",
      "hello maharaj\n",
      "Type the shift number:\n",
      "65\n",
      "The encoded text is uryyb znunenw\n",
      "Enter 'yes' to restart, 'no' to exit the programno\n",
      "Goodbye\n"
     ]
    }
   ],
   "source": [
    "alphabets = ['a', 'b', 'c', 'd', 'e', 'f', 'g', 'h', 'i', 'j', 'k', 'l', 'm', 'n', 'o', 'p', 'q', 'r', 's', 't', 'u', 'v', 'w', 'x', 'y', 'z', 'a', 'b', 'c', 'd', 'e', 'f', 'g', 'h', 'i', 'j', 'k', 'l', 'm', 'n', 'o', 'p', 'q', 'r', 's', 't', 'u', 'v', 'w', 'x', 'y', 'z']\n",
    "\n",
    "keep_repeating = False\n",
    "\n",
    "while keep_repeating == False:\n",
    "    d = input(\"Type 'encode' to encrypt, type 'decode' to decrypt:\\n\").lower()\n",
    "    t = input(\"Type your message:\\n\").lower()\n",
    "    s = int(input(\"Type the shift number:\\n\"))\n",
    "    s = s%26\n",
    "    caesar(direction = d, text = t, shift = s)\n",
    "    yes_or_no = input(\"Enter 'yes' to restart, 'no' to exit the program\")\n",
    "    if yes_or_no == \"no\":\n",
    "        keep_repeating = True\n",
    "        print(\"Goodbye\")    \n",
    "        \n",
    "\n",
    "def caesar(direction, text, shift):\n",
    "    if direction == \"decode\":\n",
    "        decrypted_text = \"\"\n",
    "        for letter in text:\n",
    "            if letter in alphabets:\n",
    "                letter_index = alphabets.index(letter)\n",
    "                new_letter_index = letter_index - shift\n",
    "                new_letter = alphabets[new_letter_index]\n",
    "                decrypted_text = decrypted_text + new_letter\n",
    "            else :\n",
    "                decrypted_text = decrypted_text + letter\n",
    "        print(\"The decoded text is\", decrypted_text)\n",
    "        \n",
    "    elif direction == \"encode\":\n",
    "        encrypted_text = \"\"\n",
    "        for letter in text:\n",
    "            if letter in alphabets:\n",
    "                letter_index = alphabets.index(letter)\n",
    "                new_letter_index = letter_index + shift\n",
    "                new_letter = alphabets[new_letter_index]\n",
    "                encrypted_text = encrypted_text + new_letter\n",
    "            else:\n",
    "                encrypted_text = encrypted_text + letter\n",
    "        print(\"The encoded text is\", encrypted_text)"
   ]
  },
  {
   "cell_type": "markdown",
   "id": "519f7f2a",
   "metadata": {},
   "source": [
    "# Day 9 : Dictionaries & Nesting (13/01/2023)\n",
    "\n",
    "Dictionaries are used to store data values in key:value pairs. A dictionary is a collection which is ordered*, changeable and do not allow duplicates.<br>\n",
    "Dictionary follows the syntax {Key:Value}<br>\n",
    "{\"Bug\" : \"An error in the program that prevents the program from running as expected\"}"
   ]
  },
  {
   "cell_type": "code",
   "execution_count": 1,
   "id": "e7654614",
   "metadata": {},
   "outputs": [],
   "source": [
    "programming_dictionary = {\n",
    "    \"Bug\": \"An error in the program that prevents the program from running as expected\",\n",
    "    \"Function\": \"A method of grouping together the instruction and can be called over and over again\",\n",
    "    \"Loop\" : \"The action of doing something over and over again\",\n",
    "    121: \"Lay down your arms and give up the fight\"\n",
    "}"
   ]
  },
  {
   "cell_type": "markdown",
   "id": "94d124db",
   "metadata": {},
   "source": [
    "To retrieve an item from a dictionary, we need to provide the key (as in case of lists, we used to provide the index). The below code will print the value of the key - function."
   ]
  },
  {
   "cell_type": "code",
   "execution_count": 2,
   "id": "4348c803",
   "metadata": {},
   "outputs": [
    {
     "name": "stdout",
     "output_type": "stream",
     "text": [
      "A method of grouping together the instruction and can be called over and over again\n"
     ]
    }
   ],
   "source": [
    "item_one = programming_dictionary[\"Function\"]\n",
    "print(item_one)"
   ]
  },
  {
   "cell_type": "code",
   "execution_count": 3,
   "id": "6c349f18",
   "metadata": {},
   "outputs": [
    {
     "name": "stdout",
     "output_type": "stream",
     "text": [
      "An error in the program that prevents the program from running as expected\n"
     ]
    }
   ],
   "source": [
    "print(programming_dictionary[\"Bug\"])"
   ]
  },
  {
   "cell_type": "code",
   "execution_count": 4,
   "id": "72c1b162",
   "metadata": {},
   "outputs": [
    {
     "name": "stdout",
     "output_type": "stream",
     "text": [
      "The action of doing something over and over again\n"
     ]
    }
   ],
   "source": [
    "print(programming_dictionary[\"Loop\"])"
   ]
  },
  {
   "cell_type": "code",
   "execution_count": 5,
   "id": "c1361a80",
   "metadata": {},
   "outputs": [
    {
     "name": "stdout",
     "output_type": "stream",
     "text": [
      "Lay down your arms and give up the fight\n"
     ]
    }
   ],
   "source": [
    "print(programming_dictionary[121])"
   ]
  },
  {
   "cell_type": "markdown",
   "id": "5af723e5",
   "metadata": {},
   "source": [
    "### Adding new item in the Dictionary:"
   ]
  },
  {
   "cell_type": "code",
   "execution_count": 6,
   "id": "e6e975e2",
   "metadata": {},
   "outputs": [],
   "source": [
    "programming_dictionary[\"Queen\"] = \"Guranteed to blow your mind\""
   ]
  },
  {
   "cell_type": "code",
   "execution_count": 7,
   "id": "a427c975",
   "metadata": {},
   "outputs": [
    {
     "data": {
      "text/plain": [
       "'Guranteed to blow your mind'"
      ]
     },
     "execution_count": 7,
     "metadata": {},
     "output_type": "execute_result"
    }
   ],
   "source": [
    "programming_dictionary[\"Queen\"]"
   ]
  },
  {
   "cell_type": "code",
   "execution_count": 8,
   "id": "e61e39a7",
   "metadata": {},
   "outputs": [
    {
     "data": {
      "text/plain": [
       "{'Bug': 'An error in the program that prevents the program from running as expected',\n",
       " 'Function': 'A method of grouping together the instruction and can be called over and over again',\n",
       " 'Loop': 'The action of doing something over and over again',\n",
       " 121: 'Lay down your arms and give up the fight',\n",
       " 'Queen': 'Guranteed to blow your mind'}"
      ]
     },
     "execution_count": 8,
     "metadata": {},
     "output_type": "execute_result"
    }
   ],
   "source": [
    "programming_dictionary"
   ]
  },
  {
   "cell_type": "markdown",
   "id": "57923cb3",
   "metadata": {},
   "source": [
    "### Creating an empty dictionary"
   ]
  },
  {
   "cell_type": "code",
   "execution_count": 9,
   "id": "79b1aa5a",
   "metadata": {},
   "outputs": [],
   "source": [
    "empty_dictionary = {}"
   ]
  },
  {
   "cell_type": "code",
   "execution_count": 10,
   "id": "011093f0",
   "metadata": {},
   "outputs": [],
   "source": [
    "empty_dictionary[\"dammit\"] = \"Blink 182\""
   ]
  },
  {
   "cell_type": "code",
   "execution_count": 11,
   "id": "0c56ea75",
   "metadata": {},
   "outputs": [
    {
     "data": {
      "text/plain": [
       "'Blink 182'"
      ]
     },
     "execution_count": 11,
     "metadata": {},
     "output_type": "execute_result"
    }
   ],
   "source": [
    "empty_dictionary[\"dammit\"]"
   ]
  },
  {
   "cell_type": "code",
   "execution_count": 12,
   "id": "5328b9c1",
   "metadata": {},
   "outputs": [
    {
     "data": {
      "text/plain": [
       "{'dammit': 'Blink 182'}"
      ]
     },
     "execution_count": 12,
     "metadata": {},
     "output_type": "execute_result"
    }
   ],
   "source": [
    "empty_dictionary"
   ]
  },
  {
   "cell_type": "markdown",
   "id": "3ec3e06b",
   "metadata": {},
   "source": [
    "### Making the dictionary empty:\n"
   ]
  },
  {
   "cell_type": "code",
   "execution_count": 13,
   "id": "4fd2daa4",
   "metadata": {},
   "outputs": [
    {
     "name": "stdout",
     "output_type": "stream",
     "text": [
      "{}\n"
     ]
    },
    {
     "data": {
      "text/plain": [
       "dict"
      ]
     },
     "execution_count": 13,
     "metadata": {},
     "output_type": "execute_result"
    }
   ],
   "source": [
    "empty_dictionary = {}\n",
    "print(empty_dictionary)\n",
    "type(empty_dictionary)"
   ]
  },
  {
   "cell_type": "markdown",
   "id": "0a7858ec",
   "metadata": {},
   "source": [
    "### Changing the dictionary value"
   ]
  },
  {
   "cell_type": "code",
   "execution_count": 14,
   "id": "5d4f5fa4",
   "metadata": {},
   "outputs": [],
   "source": [
    "programming_dictionary[\"Bug\"] = \"A moth in a computer\""
   ]
  },
  {
   "cell_type": "code",
   "execution_count": 15,
   "id": "d7d7395e",
   "metadata": {},
   "outputs": [
    {
     "name": "stdout",
     "output_type": "stream",
     "text": [
      "{'Bug': 'A moth in a computer', 'Function': 'A method of grouping together the instruction and can be called over and over again', 'Loop': 'The action of doing something over and over again', 121: 'Lay down your arms and give up the fight', 'Queen': 'Guranteed to blow your mind'}\n"
     ]
    }
   ],
   "source": [
    "print(programming_dictionary)"
   ]
  },
  {
   "cell_type": "markdown",
   "id": "41384912",
   "metadata": {},
   "source": [
    "### Looping through a dictionary:\n",
    "\n",
    "The below syntax will print the key only. The below code will go through each key in the dictionary called programming_dictionary."
   ]
  },
  {
   "cell_type": "code",
   "execution_count": 16,
   "id": "c44022cc",
   "metadata": {},
   "outputs": [
    {
     "name": "stdout",
     "output_type": "stream",
     "text": [
      "Bug\n",
      "Function\n",
      "Loop\n",
      "121\n",
      "Queen\n"
     ]
    }
   ],
   "source": [
    "for key in programming_dictionary:\n",
    "    print(key)"
   ]
  },
  {
   "cell_type": "code",
   "execution_count": 17,
   "id": "9d6a18a7",
   "metadata": {},
   "outputs": [
    {
     "name": "stdout",
     "output_type": "stream",
     "text": [
      "Bug\n",
      "Function\n",
      "Loop\n",
      "121\n",
      "Queen\n"
     ]
    }
   ],
   "source": [
    "for x in programming_dictionary:\n",
    "    print(x)"
   ]
  },
  {
   "cell_type": "markdown",
   "id": "108d07a0",
   "metadata": {},
   "source": [
    "The below code will print the values corresponding to the keys"
   ]
  },
  {
   "cell_type": "code",
   "execution_count": 18,
   "id": "f2734ddc",
   "metadata": {},
   "outputs": [
    {
     "name": "stdout",
     "output_type": "stream",
     "text": [
      "A moth in a computer\n",
      "A method of grouping together the instruction and can be called over and over again\n",
      "The action of doing something over and over again\n",
      "Lay down your arms and give up the fight\n",
      "Guranteed to blow your mind\n"
     ]
    }
   ],
   "source": [
    "for key in programming_dictionary:\n",
    "    print(programming_dictionary[key])"
   ]
  },
  {
   "cell_type": "markdown",
   "id": "35dc2b77",
   "metadata": {},
   "source": [
    "### Exercise : Student grades and scores"
   ]
  },
  {
   "cell_type": "code",
   "execution_count": 22,
   "id": "eb6396fc",
   "metadata": {},
   "outputs": [
    {
     "name": "stdout",
     "output_type": "stream",
     "text": [
      "81\n",
      "78\n",
      "99\n",
      "74\n",
      "62\n"
     ]
    }
   ],
   "source": [
    "student_scores = {\n",
    "  \"Harry\": 81,\n",
    "  \"Ron\": 78,\n",
    "  \"Hermione\": 99, \n",
    "  \"Draco\": 74,\n",
    "  \"Neville\": 62,\n",
    "}\n",
    "\n",
    "student_grades={}\n",
    "for student in student_scores:\n",
    "    score = student_scores[student]\n",
    "    print(score)\n",
    "    if score > 90:\n",
    "        student_grades[student] = \"Outsatnding\"\n",
    "    elif score < 90 and score > 80:\n",
    "        student_grades[student] = \"Exceeds Expectation\"\n",
    "    elif score > 70 and score < 80 :\n",
    "        student_grades[student] = \"Acceptable\"\n",
    "    elif score < 70:\n",
    "        student_grades[student] = \"fail\""
   ]
  },
  {
   "cell_type": "code",
   "execution_count": 24,
   "id": "3087b3c1",
   "metadata": {},
   "outputs": [
    {
     "name": "stdout",
     "output_type": "stream",
     "text": [
      "{'Harry': 'Exceeds Expectation', 'Ron': 'Acceptable', 'Hermione': 'Outsatnding', 'Draco': 'Acceptable', 'Neville': 'fail'}\n"
     ]
    }
   ],
   "source": [
    "print(student_grades)"
   ]
  },
  {
   "cell_type": "markdown",
   "id": "cb326876",
   "metadata": {},
   "source": [
    "## Nesting dictionaries and lists"
   ]
  },
  {
   "cell_type": "markdown",
   "id": "09d2e13b",
   "metadata": {},
   "source": [
    "A list itself can be used as a value to a key inside of a dictionary. even a dictionary can be used as a value for a key inside a dictionary.<br>\n",
    "> dictionary = { key1: [list], key2 : {some_other_dictionary}, key3 : [Another_list] }"
   ]
  },
  {
   "cell_type": "code",
   "execution_count": 26,
   "id": "52b9fa94",
   "metadata": {},
   "outputs": [],
   "source": [
    "dictionary_country = {\n",
    "    \"India\" : [\"Delhi\", \"Bombay\", \"Chennai\", \"Kolkata\", \"Lucknow\", \"Ahmedabad\", \" Gorakhpur\"],\n",
    "    \"USA\" : [\"New Mexico\", \"New York\", \"Ioha\", \"Los Angeles\", \"San Fransisco\", \"Oklahoma\"],\n",
    "    \"Uttar Pradesh\" : {\"Lucknow\":2, \"Allahabad\": 3, \"Kanpur\":2, \"Sultanpur\":13}\n",
    "}"
   ]
  },
  {
   "cell_type": "code",
   "execution_count": 27,
   "id": "e6639d11",
   "metadata": {},
   "outputs": [
    {
     "name": "stdout",
     "output_type": "stream",
     "text": [
      "['New Mexico', 'New York', 'Ioha', 'Los Angeles', 'San Fransisco', 'Oklahoma']\n"
     ]
    }
   ],
   "source": [
    "print(dictionary_country[\"USA\"])"
   ]
  },
  {
   "cell_type": "code",
   "execution_count": 28,
   "id": "4b6cbce5",
   "metadata": {},
   "outputs": [
    {
     "name": "stdout",
     "output_type": "stream",
     "text": [
      "['Delhi', 'Bombay', 'Chennai', 'Kolkata', 'Lucknow', 'Ahmedabad', ' Gorakhpur']\n"
     ]
    }
   ],
   "source": [
    "print(dictionary_country[\"India\"])"
   ]
  },
  {
   "cell_type": "code",
   "execution_count": 29,
   "id": "58b5b7f6",
   "metadata": {},
   "outputs": [
    {
     "name": "stdout",
     "output_type": "stream",
     "text": [
      "{'Lucknow': 2, 'Allahabad': 3, 'Kanpur': 2, 'Sultanpur': 13}\n"
     ]
    }
   ],
   "source": [
    "print(dictionary_country[\"Uttar Pradesh\"])"
   ]
  },
  {
   "cell_type": "markdown",
   "id": "d3040b65",
   "metadata": {},
   "source": [
    "Multiple Dictionaries can also be listed inside a list."
   ]
  },
  {
   "cell_type": "code",
   "execution_count": 30,
   "id": "dc45eb26",
   "metadata": {},
   "outputs": [],
   "source": [
    "dictionary_1 = {\"UP\":[\"Lucknow\", \"Faizabad\", \"Allahabad\",\"Kanpur\", \"Banda\"]}\n",
    "dictionary_2 = {\"MP\": [\"Indore\", \"Bhopal\", \"Gwalior\", \"Jabalpur\"]}\n",
    "dictionary_3 = {\"Karnataka\":{\"Hubbali\":1,\"Dharwad\":2,\"Bangalore\":3, \"Belgaum\":4}}"
   ]
  },
  {
   "cell_type": "code",
   "execution_count": 31,
   "id": "d497d429",
   "metadata": {},
   "outputs": [],
   "source": [
    "dictionary_list = [dictionary_1, dictionary_2, dictionary_3]"
   ]
  },
  {
   "cell_type": "code",
   "execution_count": 32,
   "id": "55df04ac",
   "metadata": {},
   "outputs": [
    {
     "name": "stdout",
     "output_type": "stream",
     "text": [
      "[{'UP': ['Lucknow', 'Faizabad', 'Allahabad', 'Kanpur', 'Banda']}, {'MP': ['Indore', 'Bhopal', 'Gwalior', 'Jabalpur']}, {'Karnataka': {'Hubbali': 1, 'Dharwad': 2, 'Bangalore': 3, 'Belgaum': 4}}]\n"
     ]
    }
   ],
   "source": [
    "print(dictionary_list)"
   ]
  },
  {
   "cell_type": "markdown",
   "id": "a8dc8c70",
   "metadata": {},
   "source": [
    "### Exericise : Travel Log"
   ]
  },
  {
   "cell_type": "code",
   "execution_count": 45,
   "id": "f0775491",
   "metadata": {},
   "outputs": [],
   "source": [
    "travel_log = [\n",
    "{\n",
    "  \"country\": \"France\",\n",
    "  \"visits\": 12,\n",
    "  \"cities\": [\"Paris\", \"Lille\", \"Dijon\"]\n",
    "},\n",
    "{\n",
    "  \"country\": \"Germany\",\n",
    "  \"visits\": 5,\n",
    "  \"cities\": [\"Berlin\", \"Hamburg\", \"Stuttgart\"]\n",
    "},\n",
    "]\n",
    "\n",
    "def add_new_country(country_visited, times_visited, cities_visited):\n",
    "    new_dictionary = {}\n",
    "    new_dictionary[\"country\"] = country_visited\n",
    "    new_dictionary[\"visits\"] = times_visited\n",
    "    new_dictionary[\"cities\"] = cities_visited\n",
    "    travel_log.append(new_dictionary)"
   ]
  },
  {
   "cell_type": "code",
   "execution_count": 46,
   "id": "f00c11a8",
   "metadata": {},
   "outputs": [
    {
     "name": "stdout",
     "output_type": "stream",
     "text": [
      "[{'country': 'France', 'visits': 12, 'cities': ['Paris', 'Lille', 'Dijon']}, {'country': 'Germany', 'visits': 5, 'cities': ['Berlin', 'Hamburg', 'Stuttgart']}, {'country': 'Russia', 'visits': 2, 'cities': ['Moscow', 'Saint Petersburg']}]\n"
     ]
    }
   ],
   "source": [
    "add_new_country(\"Russia\", 2, [\"Moscow\", \"Saint Petersburg\"])\n",
    "print(travel_log)"
   ]
  },
  {
   "cell_type": "markdown",
   "id": "d4e04747",
   "metadata": {},
   "source": [
    "### Exercise: Auction Program "
   ]
  },
  {
   "cell_type": "code",
   "execution_count": 62,
   "id": "a1996e49",
   "metadata": {},
   "outputs": [
    {
     "name": "stdout",
     "output_type": "stream",
     "text": [
      "Please Enter Your Name: kaustubh\n",
      "Enter Your Bid : $ 125\n",
      "Are there any other bidders? Type yes or noyes\n",
      "Please Enter Your Name: Pragya\n",
      "Enter Your Bid : $ 188\n",
      "Are there any other bidders? Type yes or noyes\n",
      "Please Enter Your Name: kaushal\n",
      "Enter Your Bid : $ 250\n",
      "Are there any other bidders? Type yes or noyes\n",
      "Please Enter Your Name: pawan\n",
      "Enter Your Bid : $ 900\n",
      "Are there any other bidders? Type yes or noyes\n",
      "Please Enter Your Name: vikash \n",
      "Enter Your Bid : $ 10000000\n",
      "Are there any other bidders? Type yes or nono\n",
      "{'kaustubh': 125, 'Pragya': 188, 'kaushal': 250, 'pawan': 900, 'vikash ': 10000000}\n",
      "Highest Bid is 10000000\n",
      "And the winner is :  vikash \n"
     ]
    }
   ],
   "source": [
    "import os\n",
    "\n",
    "bids_bidders = {}\n",
    "\n",
    "bidding_finished = False\n",
    "while not bidding_finished:\n",
    "    name = input(\"Please Enter Your Name: \")\n",
    "    bid = int(input(\"Enter Your Bid : $ \"))\n",
    "\n",
    "    bids_bidders[name] = bid\n",
    "\n",
    "    should_continue = input (\"Are there any other bidders? Type yes or no\")\n",
    "    if should_continue == \"no\":\n",
    "        bidding_finished = True\n",
    "    elif should_continue == \"yes\":\n",
    "        os.system('cls')\n",
    "        \n",
    "print(bids_bidders)\n",
    "\n",
    "def highest_bidder(bids_bidders):\n",
    "    highest_bid = 0\n",
    "    for bidder in bids_bidders:\n",
    "        bid_value = bids_bidders[bidder]\n",
    "        if bid_value > highest_bid:\n",
    "            highest_bid = bid_value\n",
    "    print(\"Highest Bid is\",highest_bid)\n",
    "    print(\"And the winner is : \", bidder)\n",
    "highest_bidder(bids_bidders)"
   ]
  },
  {
   "cell_type": "markdown",
   "id": "6fea7d9c",
   "metadata": {},
   "source": [
    "# Day 10 : Functions with output (18/01/2023)"
   ]
  },
  {
   "cell_type": "markdown",
   "id": "cfd70e1a",
   "metadata": {},
   "source": [
    "We can use functions with output to return a specific value when the function is called. In sunch cases, when the function is called, it outputs the value which we have asked it to return and replaces the calling statement, which we can store in a variable for later use."
   ]
  },
  {
   "cell_type": "code",
   "execution_count": 65,
   "id": "ee8c82a7",
   "metadata": {},
   "outputs": [],
   "source": [
    "def my_function():\n",
    "    return 10*10"
   ]
  },
  {
   "cell_type": "code",
   "execution_count": 66,
   "id": "f25c7c35",
   "metadata": {},
   "outputs": [
    {
     "data": {
      "text/plain": [
       "100"
      ]
     },
     "execution_count": 66,
     "metadata": {},
     "output_type": "execute_result"
    }
   ],
   "source": [
    "my_function()"
   ]
  },
  {
   "cell_type": "markdown",
   "id": "86973946",
   "metadata": {},
   "source": [
    "### Function to change name into title case"
   ]
  },
  {
   "cell_type": "code",
   "execution_count": 73,
   "id": "4e94cd85",
   "metadata": {},
   "outputs": [],
   "source": [
    "def format_name(first_name, second_name):\n",
    "    f_title = f.title()\n",
    "    s_title = s.title()\n",
    "    title_case = f_title + \" \" + s_title\n",
    "    return title_case    "
   ]
  },
  {
   "cell_type": "code",
   "execution_count": 74,
   "id": "79097d82",
   "metadata": {},
   "outputs": [
    {
     "name": "stdout",
     "output_type": "stream",
     "text": [
      "Enter the first name: kUmaR\n",
      "Enter the second name: kAuStuBh\n"
     ]
    },
    {
     "data": {
      "text/plain": [
       "'Kumar Kaustubh'"
      ]
     },
     "execution_count": 74,
     "metadata": {},
     "output_type": "execute_result"
    }
   ],
   "source": [
    "f = input(\"Enter the first name: \")\n",
    "s = input(\"Enter the second name: \")\n",
    "format_name(first_name = f, second_name = s)"
   ]
  },
  {
   "cell_type": "markdown",
   "id": "0afdf4d7",
   "metadata": {},
   "source": [
    "### Multiple Return Values"
   ]
  },
  {
   "cell_type": "markdown",
   "id": "91a68130",
   "metadata": {},
   "source": [
    "A function may also have multiple return values. Return part in the function marks the end of a function. If we give any instruction after the return statement, those instructions won't be executed.<br>\n",
    "A function may also have multiple return statements. Also, we can write return alone to terminate the function execution and exit the function."
   ]
  },
  {
   "cell_type": "code",
   "execution_count": 77,
   "id": "516627ae",
   "metadata": {},
   "outputs": [],
   "source": [
    "def ek_function():\n",
    "    return \"This is a useless function which doesn't do anything\""
   ]
  },
  {
   "cell_type": "code",
   "execution_count": 78,
   "id": "92cee9c5",
   "metadata": {},
   "outputs": [
    {
     "data": {
      "text/plain": [
       "\"This is a useless function which doesn't do anything\""
      ]
     },
     "execution_count": 78,
     "metadata": {},
     "output_type": "execute_result"
    }
   ],
   "source": [
    "ek_function()"
   ]
  },
  {
   "cell_type": "code",
   "execution_count": 80,
   "id": "29b5e56d",
   "metadata": {},
   "outputs": [],
   "source": [
    "def format_name_2(first_name, second_name):\n",
    "    if first_name == \"\" or second_name == \"\":\n",
    "        return \"You did not type either of the name\"\n",
    "    f_title = f.title()\n",
    "    s_title = s.title()\n",
    "    title_case = f_title + \" \" + s_title\n",
    "    return title_case    "
   ]
  },
  {
   "cell_type": "code",
   "execution_count": 83,
   "id": "4b6a7497",
   "metadata": {},
   "outputs": [
    {
     "name": "stdout",
     "output_type": "stream",
     "text": [
      "Enter the first name: \n",
      "Enter the second name: kAusTuBh\n"
     ]
    },
    {
     "data": {
      "text/plain": [
       "'You did not type either of the name'"
      ]
     },
     "execution_count": 83,
     "metadata": {},
     "output_type": "execute_result"
    }
   ],
   "source": [
    "f = input(\"Enter the first name: \")\n",
    "s = input(\"Enter the second name: \")\n",
    "format_name_2(first_name = f, second_name = s)"
   ]
  },
  {
   "cell_type": "code",
   "execution_count": 85,
   "id": "24184578",
   "metadata": {},
   "outputs": [
    {
     "name": "stdout",
     "output_type": "stream",
     "text": [
      "Enter the first name: kumaR\n",
      "Enter the second name: KauStUbH\n"
     ]
    },
    {
     "data": {
      "text/plain": [
       "'Kumar Kaustubh'"
      ]
     },
     "execution_count": 85,
     "metadata": {},
     "output_type": "execute_result"
    }
   ],
   "source": [
    "f = input(\"Enter the first name: \")\n",
    "s = input(\"Enter the second name: \")\n",
    "format_name_2(first_name = f, second_name = s)"
   ]
  },
  {
   "cell_type": "markdown",
   "id": "8288972e",
   "metadata": {},
   "source": [
    "#### Exercise : Days in Months"
   ]
  },
  {
   "cell_type": "code",
   "execution_count": 90,
   "id": "da2b9fcc",
   "metadata": {},
   "outputs": [
    {
     "name": "stdout",
     "output_type": "stream",
     "text": [
      "Enter a year: 1995\n",
      "Enter a month: 2\n",
      "28\n"
     ]
    }
   ],
   "source": [
    "def is_leap(year):\n",
    "    if year % 4 == 0:\n",
    "        if year % 100 == 0:\n",
    "            if year % 400 == 0:\n",
    "                return True\n",
    "            else:\n",
    "                return False\n",
    "        else:\n",
    "            return True\n",
    "    else:\n",
    "        return False\n",
    "\n",
    "def days_in_month(year, month):\n",
    "    if is_leap(year) == True:\n",
    "        month_days = [31, 29, 31, 30, 31, 30, 31, 31, 30, 31, 30, 31]\n",
    "        return month_days[month-1]\n",
    "    elif is_leap(year) == False:\n",
    "        month_days = [31, 28, 31, 30, 31, 30, 31, 31, 30, 31, 30, 31]\n",
    "        return month_days[month-1]\n",
    "  \n",
    "  \n",
    "year = int(input(\"Enter a year: \"))\n",
    "month = int(input(\"Enter a month: \"))\n",
    "days = days_in_month(year, month)\n",
    "print(days)"
   ]
  },
  {
   "cell_type": "markdown",
   "id": "71900f49",
   "metadata": {},
   "source": [
    "### Docstring"
   ]
  },
  {
   "cell_type": "markdown",
   "id": "931b495c",
   "metadata": {},
   "source": [
    "Triple quotations can be used to write multiple line of string, i.e multi line comment."
   ]
  },
  {
   "cell_type": "code",
   "execution_count": 97,
   "id": "8ce10ed2",
   "metadata": {},
   "outputs": [],
   "source": [
    "def multiplication():\n",
    "    \"\"\"This function returns the multiplication of \n",
    "    2 and 5 as a result\"\"\"\n",
    "    return 2*5"
   ]
  },
  {
   "cell_type": "code",
   "execution_count": 98,
   "id": "28dbb9f6",
   "metadata": {},
   "outputs": [
    {
     "data": {
      "text/plain": [
       "10"
      ]
     },
     "execution_count": 98,
     "metadata": {},
     "output_type": "execute_result"
    }
   ],
   "source": [
    "multiplication()"
   ]
  },
  {
   "cell_type": "markdown",
   "id": "405f8dab",
   "metadata": {},
   "source": [
    "### Exercise : Calculator Program"
   ]
  },
  {
   "cell_type": "markdown",
   "id": "6e3ddc26",
   "metadata": {},
   "source": [
    "#### Logic 1"
   ]
  },
  {
   "cell_type": "code",
   "execution_count": 18,
   "id": "0a243ede",
   "metadata": {},
   "outputs": [
    {
     "name": "stdout",
     "output_type": "stream",
     "text": [
      "what is the first number?: 14\n",
      "What is the second number?: 2\n",
      "+\n",
      "-\n",
      "*\n",
      "/\n",
      "Pick an operation symbol: /\n",
      "14 / 2 is 7.0\n"
     ]
    }
   ],
   "source": [
    "def addition(n1, n2):\n",
    "    return n1+n2\n",
    "\n",
    "def subtraction(n1, n2):\n",
    "    return n1-n2\n",
    "\n",
    "def multiplication(n1, n2):\n",
    "    return n1*n2\n",
    "\n",
    "def division(n1, n2):\n",
    "    return n1/n2\n",
    "\n",
    "operations ={\n",
    "    \"+\": addition, \n",
    "    \"-\":subtraction, \n",
    "    \"*\": multiplication, \n",
    "    \"/\": division\n",
    "}\n",
    "\n",
    "num1 = int(input(\"what is the first number?: \"))\n",
    "num2 = int(input(\"What is the second number?: \"))\n",
    "\n",
    "for key in operations:\n",
    "    print(key)\n",
    "    \n",
    "operation_symbol = input(\"Pick an operation symbol: \")\n",
    "\n",
    "if operation_symbol == \"+\":\n",
    "    result = addition(num1, num2)\n",
    "\n",
    "elif operation_symbol == \"-\":\n",
    "    result = subtraction(num1, num2)\n",
    "    \n",
    "elif operation_symbol == \"*\":\n",
    "    result = multiplication(num1, num2)\n",
    "    \n",
    "elif operation_symbol == \"/\":\n",
    "    result = division(num1, num2)\n",
    "        \n",
    "else:\n",
    "    print(\"Please choose a valid operation!!\")\n",
    "    \n",
    "print(f\"{num1} {operation_symbol} {num2} is {result}\")"
   ]
  },
  {
   "cell_type": "markdown",
   "id": "14d294fd",
   "metadata": {},
   "source": [
    "#### Logic 2 (shorter):"
   ]
  },
  {
   "cell_type": "code",
   "execution_count": 19,
   "id": "4179b398",
   "metadata": {},
   "outputs": [
    {
     "name": "stdout",
     "output_type": "stream",
     "text": [
      "what is the first number?: 42\n",
      "What is the second number?: 2\n",
      "+\n",
      "-\n",
      "*\n",
      "/\n",
      "Pick an operation symbol: /\n",
      "42 / 2 is 21.0\n"
     ]
    }
   ],
   "source": [
    "def addition(n1, n2):\n",
    "    return n1+n2\n",
    "\n",
    "def subtraction(n1, n2):\n",
    "    return n1-n2\n",
    "\n",
    "def multiplication(n1, n2):\n",
    "    return n1*n2\n",
    "\n",
    "def division(n1, n2):\n",
    "    return n1/n2\n",
    "\n",
    "operations ={\n",
    "    \"+\": addition, \n",
    "    \"-\":subtraction, \n",
    "    \"*\": multiplication, \n",
    "    \"/\": division\n",
    "}\n",
    "\n",
    "num1 = int(input(\"what is the first number?: \"))\n",
    "num2 = int(input(\"What is the second number?: \"))\n",
    "\n",
    "for key in operations:\n",
    "    print(key)\n",
    "    \n",
    "operation_symbol = input(\"Pick an operation symbol: \")\n",
    "\n",
    "function_used = operations[operation_symbol]\n",
    "answer = function_used(num1, num2)\n",
    "\n",
    "print(f\"{num1} {operation_symbol} {num2} is {answer}\")"
   ]
  },
  {
   "cell_type": "markdown",
   "id": "5b41fab9",
   "metadata": {},
   "source": [
    "#### Using a while loop for the same"
   ]
  },
  {
   "cell_type": "code",
   "execution_count": 25,
   "id": "15746836",
   "metadata": {},
   "outputs": [
    {
     "name": "stdout",
     "output_type": "stream",
     "text": [
      "what is the first number?: 45\n",
      "+\n",
      "-\n",
      "*\n",
      "/\n",
      "Pick an operation symbol: /\n",
      "What is the next number?: 3\n",
      "45.0 / 3.0 is 15.0\n",
      "Type 'y' for yes and 'n' for noy\n",
      "Pick an operation symbol: *\n",
      "What is the next number?: 2.6\n",
      "15.0 * 2.6 is 39.0\n",
      "Type 'y' for yes and 'n' for non\n",
      "Adios Amigo!!\n"
     ]
    }
   ],
   "source": [
    "def addition(n1, n2):\n",
    "    return n1+n2\n",
    "\n",
    "def subtraction(n1, n2):\n",
    "    return n1-n2\n",
    "\n",
    "def multiplication(n1, n2):\n",
    "    return n1*n2\n",
    "\n",
    "def division(n1, n2):\n",
    "    return n1/n2\n",
    "\n",
    "operations ={\n",
    "    \"+\": addition, \n",
    "    \"-\":subtraction, \n",
    "    \"*\": multiplication, \n",
    "    \"/\": division\n",
    "}\n",
    "\n",
    "num1 = float(input(\"what is the first number?: \"))\n",
    "\n",
    "\n",
    "for key in operations:\n",
    "    print(key)\n",
    "should_continue = True\n",
    "while should_continue:\n",
    "    operation_symbol = input(\"Pick an operation symbol: \")\n",
    "    num2 = float(input(\"What is the next number?: \"))\n",
    "    calculation_function = operations[operation_symbol]\n",
    "    answer = calculation_function(num1, num2)\n",
    "    print(f\"{num1} {operation_symbol} {num2} is {answer}\")\n",
    "    y_n = input(\"Type 'y' for yes and 'n' for no\")\n",
    "    if y_n == \"n\":\n",
    "        should_continue = False\n",
    "        print(\"Adios Amigo!!\")\n",
    "    elif y_n == \"y\":\n",
    "        num1 = answer"
   ]
  },
  {
   "cell_type": "markdown",
   "id": "3e415fd2",
   "metadata": {},
   "source": [
    "### Restarting the calculator using self calling:\n"
   ]
  },
  {
   "cell_type": "code",
   "execution_count": 29,
   "id": "ccb6bd26",
   "metadata": {},
   "outputs": [
    {
     "name": "stdout",
     "output_type": "stream",
     "text": [
      "what is the first number?: 85\n",
      "+\n",
      "-\n",
      "*\n",
      "/\n",
      "Pick an operation symbol: /\n",
      "What is the next number?: 5\n",
      "85.0 / 5.0 is 17.0\n",
      "Type 'y' for yes and 'r' to restart calculations and 'n' to exit:y\n",
      "Pick an operation symbol: -\n",
      "What is the next number?: 12\n",
      "17.0 - 12.0 is 5.0\n",
      "Type 'y' for yes and 'r' to restart calculations and 'n' to exit:n\n",
      "Adios Amigo!\n"
     ]
    }
   ],
   "source": [
    "def addition(n1, n2):\n",
    "    return n1+n2\n",
    "\n",
    "def subtraction(n1, n2):\n",
    "    return n1-n2\n",
    "\n",
    "def multiplication(n1, n2):\n",
    "    return n1*n2\n",
    "\n",
    "def division(n1, n2):\n",
    "    return n1/n2\n",
    "\n",
    "operations ={\n",
    "    \"+\": addition, \n",
    "    \"-\":subtraction, \n",
    "    \"*\": multiplication, \n",
    "    \"/\": division\n",
    "}\n",
    "\n",
    "def calculator():\n",
    "    num1 = float(input(\"what is the first number?: \"))\n",
    "\n",
    "\n",
    "    for key in operations:\n",
    "        print(key)\n",
    "    should_continue = True\n",
    "    while should_continue:\n",
    "        operation_symbol = input(\"Pick an operation symbol: \")\n",
    "        num2 = float(input(\"What is the next number?: \"))\n",
    "        calculation_function = operations[operation_symbol]\n",
    "        answer = calculation_function(num1, num2)\n",
    "        print(f\"{num1} {operation_symbol} {num2} is {answer}\")\n",
    "        y_n = input(\"Type 'y' for yes and 'r' to restart calculations and 'n' to exit:\")\n",
    "        if y_n == \"r\":\n",
    "            should_continue = False\n",
    "            calculator()\n",
    "        elif y_n == \"y\":\n",
    "            num1 = answer\n",
    "        elif y_n == \"n\":\n",
    "            should_continue = False\n",
    "            print(\"Adios Amigo!\")\n",
    "\n",
    "calculator()"
   ]
  }
 ],
 "metadata": {
  "kernelspec": {
   "display_name": "Python 3 (ipykernel)",
   "language": "python",
   "name": "python3"
  },
  "language_info": {
   "codemirror_mode": {
    "name": "ipython",
    "version": 3
   },
   "file_extension": ".py",
   "mimetype": "text/x-python",
   "name": "python",
   "nbconvert_exporter": "python",
   "pygments_lexer": "ipython3",
   "version": "3.9.13"
  }
 },
 "nbformat": 4,
 "nbformat_minor": 5
}
